{
 "cells": [
  {
   "cell_type": "markdown",
   "metadata": {},
   "source": [
    "# Dataset - Feature Extraction\n",
    "\n",
    "In this notebook, the dataset used to train the machine learning model is created"
   ]
  },
  {
   "cell_type": "code",
   "execution_count": 104,
   "metadata": {
    "ExecuteTime": {
     "end_time": "2019-09-23T19:39:19.248315Z",
     "start_time": "2019-09-23T19:39:19.245420Z"
    }
   },
   "outputs": [],
   "source": [
    "import pandas as pd\n",
    "import numpy as np\n",
    "import datetime as dt\n",
    "import os\n",
    "import time\n",
    "\n",
    "pd.set_option('mode.chained_assignment', None)"
   ]
  },
  {
   "cell_type": "code",
   "execution_count": 105,
   "metadata": {
    "ExecuteTime": {
     "end_time": "2019-09-23T19:39:19.442584Z",
     "start_time": "2019-09-23T19:39:19.439640Z"
    }
   },
   "outputs": [],
   "source": [
    "# Constants\n",
    "data_dir = 'geolife-data/Prepared'\n",
    "output_file = 'processed_data.csv'\n",
    "files_to_read = 100\n",
    "earth_radius = 6367"
   ]
  },
  {
   "cell_type": "markdown",
   "metadata": {},
   "source": [
    "## Functions\n",
    "Functions are defined that are used for feature extractrion"
   ]
  },
  {
   "cell_type": "code",
   "execution_count": 106,
   "metadata": {
    "ExecuteTime": {
     "end_time": "2019-09-23T19:39:20.392839Z",
     "start_time": "2019-09-23T19:39:20.387397Z"
    }
   },
   "outputs": [],
   "source": [
    "def haversine(lat1, lon1, lat2, lon2, earth_radius=6371):\n",
    "    \n",
    "    lat1, lon1, lat2, lon2 = map(np.radians, [lat1, lon1, lat2, lon2])\n",
    "    \n",
    "    a = np.sin(np.abs(lat2-lat1)/2.0)**2 + \\\n",
    "        np.cos(lat1) * np.cos(lat2) * np.sin(np.abs(lon2-lon1)/2.0)**2\n",
    "    c = np.arctan2(np.sqrt(a), np.sqrt(1-a))\n",
    "    \n",
    "    return earth_radius * 2 * c"
   ]
  },
  {
   "cell_type": "code",
   "execution_count": 107,
   "metadata": {
    "ExecuteTime": {
     "end_time": "2019-09-23T19:39:20.838447Z",
     "start_time": "2019-09-23T19:39:20.832990Z"
    }
   },
   "outputs": [],
   "source": [
    "def bearing(lat1, lon1, lat2, lon2, earth_radius=6371):\n",
    "    \n",
    "    lat1, lon1, lat2, lon2 = map(np.radians, [lat1, lon1, lat2, lon2])\n",
    "    \n",
    "    y = np.sin(np.abs(lon2-lon1)) * np.cos(lat2)\n",
    "    x = np.cos(lat1) * np.sin(lat2) - np.sin(lat1) * np.cos(lat2) * np.cos(np.abs(lon2-lon1))\n",
    "    \n",
    "    return np.degrees(np.arctan2(y,x))"
   ]
  },
  {
   "cell_type": "markdown",
   "metadata": {},
   "source": [
    "## Load files"
   ]
  },
  {
   "cell_type": "code",
   "execution_count": 108,
   "metadata": {
    "ExecuteTime": {
     "end_time": "2019-09-23T19:41:17.073193Z",
     "start_time": "2019-09-23T19:39:21.768576Z"
    }
   },
   "outputs": [
    {
     "name": "stderr",
     "output_type": "stream",
     "text": [
      "//anaconda3/lib/python3.7/site-packages/ipykernel_launcher.py:9: FutureWarning: Sorting because non-concatenation axis is not aligned. A future version\n",
      "of pandas will change to not sort by default.\n",
      "\n",
      "To accept the future behavior, pass 'sort=False'.\n",
      "\n",
      "To retain the current behavior and silence the warning, pass 'sort=True'.\n",
      "\n",
      "  if __name__ == '__main__':\n"
     ]
    }
   ],
   "source": [
    "filelist = os.listdir(data_dir)\n",
    "files_to_read = (len(filelist) if files_to_read>len(filelist) else files_to_read)\n",
    "\n",
    "data_raw = pd.DataFrame()\n",
    "for file in filelist[:files_to_read]:\n",
    "    if os.path.isdir(data_dir + \"/\" + file):\n",
    "        continue\n",
    "    data_raw_temp = traj_df = pd.read_csv(data_dir + \"/\" + file)\n",
    "    data_raw = pd.concat([data_raw, data_raw_temp])\n"
   ]
  },
  {
   "cell_type": "code",
   "execution_count": 109,
   "metadata": {
    "ExecuteTime": {
     "end_time": "2019-09-23T19:41:17.347548Z",
     "start_time": "2019-09-23T19:41:17.075153Z"
    }
   },
   "outputs": [
    {
     "data": {
      "text/plain": [
       "array(['car', 'walk', nan, 'bike', 'taxi', 'bus', 'subway', 'airplane',\n",
       "       'train', 'run', 'boat', 'motorcycle'], dtype=object)"
      ]
     },
     "execution_count": 109,
     "metadata": {},
     "output_type": "execute_result"
    }
   ],
   "source": [
    "data_raw['trans_mode'].unique()"
   ]
  },
  {
   "cell_type": "markdown",
   "metadata": {},
   "source": [
    "## Prepare Data\n",
    "Colums are renamed and unused colums and rows are dropped"
   ]
  },
  {
   "cell_type": "code",
   "execution_count": 110,
   "metadata": {
    "ExecuteTime": {
     "end_time": "2019-09-23T19:41:20.240003Z",
     "start_time": "2019-09-23T19:41:17.349837Z"
    }
   },
   "outputs": [
    {
     "data": {
      "text/plain": [
       "Unnamed: 0    6807961\n",
       "date          6807961\n",
       "days_total    6807961\n",
       "height        6807961\n",
       "latitude      6807961\n",
       "longitude     6807961\n",
       "record_dt     6807961\n",
       "time          6807961\n",
       "trans_mode    5440616\n",
       "trans_trip    5440616\n",
       "user          6807961\n",
       "dtype: int64"
      ]
     },
     "execution_count": 110,
     "metadata": {},
     "output_type": "execute_result"
    }
   ],
   "source": [
    "backup = data_raw\n",
    "data_raw.count()"
   ]
  },
  {
   "cell_type": "code",
   "execution_count": 117,
   "metadata": {
    "ExecuteTime": {
     "end_time": "2019-09-23T19:54:35.357765Z",
     "start_time": "2019-09-23T19:54:35.349851Z"
    }
   },
   "outputs": [],
   "source": [
    "data_raw = backup"
   ]
  },
  {
   "cell_type": "code",
   "execution_count": 118,
   "metadata": {
    "ExecuteTime": {
     "end_time": "2019-09-23T19:54:44.547284Z",
     "start_time": "2019-09-23T19:54:41.167913Z"
    }
   },
   "outputs": [],
   "source": [
    "data_raw = data_raw.rename(columns={\"height\": \"altitude\"})\\\n",
    "    .drop(columns = ['days_total', 'date', 'time'])\\\n",
    "    .dropna()"
   ]
  },
  {
   "cell_type": "code",
   "execution_count": 120,
   "metadata": {
    "ExecuteTime": {
     "end_time": "2019-09-23T19:54:55.829428Z",
     "start_time": "2019-09-23T19:54:55.811804Z"
    }
   },
   "outputs": [
    {
     "data": {
      "text/html": [
       "<div>\n",
       "<style scoped>\n",
       "    .dataframe tbody tr th:only-of-type {\n",
       "        vertical-align: middle;\n",
       "    }\n",
       "\n",
       "    .dataframe tbody tr th {\n",
       "        vertical-align: top;\n",
       "    }\n",
       "\n",
       "    .dataframe thead th {\n",
       "        text-align: right;\n",
       "    }\n",
       "</style>\n",
       "<table border=\"1\" class=\"dataframe\">\n",
       "  <thead>\n",
       "    <tr style=\"text-align: right;\">\n",
       "      <th></th>\n",
       "      <th>Unnamed: 0</th>\n",
       "      <th>altitude</th>\n",
       "      <th>latitude</th>\n",
       "      <th>longitude</th>\n",
       "      <th>record_dt</th>\n",
       "      <th>trans_mode</th>\n",
       "      <th>trans_trip</th>\n",
       "      <th>user</th>\n",
       "    </tr>\n",
       "  </thead>\n",
       "  <tbody>\n",
       "    <tr>\n",
       "      <td>0</td>\n",
       "      <td>0</td>\n",
       "      <td>154.199475</td>\n",
       "      <td>40.013683</td>\n",
       "      <td>116.473467</td>\n",
       "      <td>2007-10-08 01:56:45</td>\n",
       "      <td>car</td>\n",
       "      <td>0.0</td>\n",
       "      <td>106.0</td>\n",
       "    </tr>\n",
       "    <tr>\n",
       "      <td>1</td>\n",
       "      <td>1</td>\n",
       "      <td>154.199475</td>\n",
       "      <td>40.012967</td>\n",
       "      <td>116.476683</td>\n",
       "      <td>2007-10-08 01:56:58</td>\n",
       "      <td>car</td>\n",
       "      <td>0.0</td>\n",
       "      <td>106.0</td>\n",
       "    </tr>\n",
       "    <tr>\n",
       "      <td>2</td>\n",
       "      <td>2</td>\n",
       "      <td>147.637795</td>\n",
       "      <td>40.011567</td>\n",
       "      <td>116.479800</td>\n",
       "      <td>2007-10-08 01:57:13</td>\n",
       "      <td>car</td>\n",
       "      <td>0.0</td>\n",
       "      <td>106.0</td>\n",
       "    </tr>\n",
       "    <tr>\n",
       "      <td>3</td>\n",
       "      <td>3</td>\n",
       "      <td>141.076115</td>\n",
       "      <td>40.009733</td>\n",
       "      <td>116.482167</td>\n",
       "      <td>2007-10-08 01:57:26</td>\n",
       "      <td>car</td>\n",
       "      <td>0.0</td>\n",
       "      <td>106.0</td>\n",
       "    </tr>\n",
       "    <tr>\n",
       "      <td>4</td>\n",
       "      <td>4</td>\n",
       "      <td>147.637795</td>\n",
       "      <td>40.000600</td>\n",
       "      <td>116.490833</td>\n",
       "      <td>2007-10-08 01:58:37</td>\n",
       "      <td>car</td>\n",
       "      <td>0.0</td>\n",
       "      <td>106.0</td>\n",
       "    </tr>\n",
       "    <tr>\n",
       "      <td>...</td>\n",
       "      <td>...</td>\n",
       "      <td>...</td>\n",
       "      <td>...</td>\n",
       "      <td>...</td>\n",
       "      <td>...</td>\n",
       "      <td>...</td>\n",
       "      <td>...</td>\n",
       "      <td>...</td>\n",
       "    </tr>\n",
       "    <tr>\n",
       "      <td>1310</td>\n",
       "      <td>20</td>\n",
       "      <td>157.480315</td>\n",
       "      <td>39.975483</td>\n",
       "      <td>116.329883</td>\n",
       "      <td>2007-10-12 00:59:57</td>\n",
       "      <td>bike</td>\n",
       "      <td>2.0</td>\n",
       "      <td>56.0</td>\n",
       "    </tr>\n",
       "    <tr>\n",
       "      <td>1311</td>\n",
       "      <td>21</td>\n",
       "      <td>157.480315</td>\n",
       "      <td>39.975400</td>\n",
       "      <td>116.330300</td>\n",
       "      <td>2007-10-12 01:00:12</td>\n",
       "      <td>bike</td>\n",
       "      <td>2.0</td>\n",
       "      <td>56.0</td>\n",
       "    </tr>\n",
       "    <tr>\n",
       "      <td>1312</td>\n",
       "      <td>22</td>\n",
       "      <td>104.986877</td>\n",
       "      <td>39.975417</td>\n",
       "      <td>116.330533</td>\n",
       "      <td>2007-10-12 01:00:25</td>\n",
       "      <td>bike</td>\n",
       "      <td>2.0</td>\n",
       "      <td>56.0</td>\n",
       "    </tr>\n",
       "    <tr>\n",
       "      <td>1313</td>\n",
       "      <td>23</td>\n",
       "      <td>157.480315</td>\n",
       "      <td>39.975533</td>\n",
       "      <td>116.330733</td>\n",
       "      <td>2007-10-12 01:00:53</td>\n",
       "      <td>bike</td>\n",
       "      <td>2.0</td>\n",
       "      <td>56.0</td>\n",
       "    </tr>\n",
       "    <tr>\n",
       "      <td>1314</td>\n",
       "      <td>24</td>\n",
       "      <td>144.356955</td>\n",
       "      <td>39.975950</td>\n",
       "      <td>116.330583</td>\n",
       "      <td>2007-10-12 01:01:07</td>\n",
       "      <td>bike</td>\n",
       "      <td>2.0</td>\n",
       "      <td>56.0</td>\n",
       "    </tr>\n",
       "  </tbody>\n",
       "</table>\n",
       "<p>5440616 rows × 8 columns</p>\n",
       "</div>"
      ],
      "text/plain": [
       "     Unnamed: 0    altitude   latitude   longitude            record_dt  \\\n",
       "0             0  154.199475  40.013683  116.473467  2007-10-08 01:56:45   \n",
       "1             1  154.199475  40.012967  116.476683  2007-10-08 01:56:58   \n",
       "2             2  147.637795  40.011567  116.479800  2007-10-08 01:57:13   \n",
       "3             3  141.076115  40.009733  116.482167  2007-10-08 01:57:26   \n",
       "4             4  147.637795  40.000600  116.490833  2007-10-08 01:58:37   \n",
       "...         ...         ...        ...         ...                  ...   \n",
       "1310         20  157.480315  39.975483  116.329883  2007-10-12 00:59:57   \n",
       "1311         21  157.480315  39.975400  116.330300  2007-10-12 01:00:12   \n",
       "1312         22  104.986877  39.975417  116.330533  2007-10-12 01:00:25   \n",
       "1313         23  157.480315  39.975533  116.330733  2007-10-12 01:00:53   \n",
       "1314         24  144.356955  39.975950  116.330583  2007-10-12 01:01:07   \n",
       "\n",
       "     trans_mode  trans_trip   user  \n",
       "0           car         0.0  106.0  \n",
       "1           car         0.0  106.0  \n",
       "2           car         0.0  106.0  \n",
       "3           car         0.0  106.0  \n",
       "4           car         0.0  106.0  \n",
       "...         ...         ...    ...  \n",
       "1310       bike         2.0   56.0  \n",
       "1311       bike         2.0   56.0  \n",
       "1312       bike         2.0   56.0  \n",
       "1313       bike         2.0   56.0  \n",
       "1314       bike         2.0   56.0  \n",
       "\n",
       "[5440616 rows x 8 columns]"
      ]
     },
     "execution_count": 120,
     "metadata": {},
     "output_type": "execute_result"
    }
   ],
   "source": [
    "data_raw"
   ]
  },
  {
   "cell_type": "code",
   "execution_count": 122,
   "metadata": {
    "ExecuteTime": {
     "end_time": "2019-09-23T19:55:19.338853Z",
     "start_time": "2019-09-23T19:55:15.958813Z"
    }
   },
   "outputs": [],
   "source": [
    "data_raw['record_dt'] = data_raw['record_dt'].astype(\"datetime64\")\n",
    "\n",
    "data_raw.loc[data_raw[\"trans_mode\"].str.contains(\"taxi\"), 'trans_mode'] = \"car\""
   ]
  },
  {
   "cell_type": "code",
   "execution_count": 123,
   "metadata": {
    "ExecuteTime": {
     "end_time": "2019-09-23T19:55:20.265570Z",
     "start_time": "2019-09-23T19:55:20.115866Z"
    }
   },
   "outputs": [
    {
     "data": {
      "text/plain": [
       "array(['car', 'walk', 'bike', 'bus', 'subway', 'airplane', 'train', 'run',\n",
       "       'boat', 'motorcycle'], dtype=object)"
      ]
     },
     "execution_count": 123,
     "metadata": {},
     "output_type": "execute_result"
    }
   ],
   "source": [
    "data_raw['trans_mode'].unique()"
   ]
  },
  {
   "cell_type": "code",
   "execution_count": 114,
   "metadata": {
    "ExecuteTime": {
     "end_time": "2019-09-23T19:47:00.916765Z",
     "start_time": "2019-09-23T19:41:27.276045Z"
    }
   },
   "outputs": [],
   "source": [
    "used_classes = ['car', 'walk']\n",
    "\n",
    "data_raw = data_raw.drop(data_raw[~data_raw['trans_mode'].isin(used_classes)].index)"
   ]
  },
  {
   "cell_type": "code",
   "execution_count": 128,
   "metadata": {
    "ExecuteTime": {
     "end_time": "2019-09-23T19:57:58.349831Z",
     "start_time": "2019-09-23T19:57:57.612040Z"
    }
   },
   "outputs": [],
   "source": [
    "data = pd.DataFrame()\n",
    "data = pd.concat([data_raw[data_raw[\"trans_mode\"] == \"car\"], data_raw[data_raw[\"trans_mode\"] == \"walk\"]])\n",
    "#data_raw[data_raw[\"trans_mode\"] == \"car\"]"
   ]
  },
  {
   "cell_type": "code",
   "execution_count": 130,
   "metadata": {
    "ExecuteTime": {
     "end_time": "2019-09-23T19:58:11.421347Z",
     "start_time": "2019-09-23T19:58:10.891559Z"
    }
   },
   "outputs": [
    {
     "data": {
      "text/html": [
       "<div>\n",
       "<style scoped>\n",
       "    .dataframe tbody tr th:only-of-type {\n",
       "        vertical-align: middle;\n",
       "    }\n",
       "\n",
       "    .dataframe tbody tr th {\n",
       "        vertical-align: top;\n",
       "    }\n",
       "\n",
       "    .dataframe thead th {\n",
       "        text-align: right;\n",
       "    }\n",
       "</style>\n",
       "<table border=\"1\" class=\"dataframe\">\n",
       "  <thead>\n",
       "    <tr style=\"text-align: right;\">\n",
       "      <th></th>\n",
       "      <th>Unnamed: 0</th>\n",
       "      <th>altitude</th>\n",
       "      <th>latitude</th>\n",
       "      <th>longitude</th>\n",
       "      <th>record_dt</th>\n",
       "      <th>trans_trip</th>\n",
       "      <th>user</th>\n",
       "    </tr>\n",
       "    <tr>\n",
       "      <th>trans_mode</th>\n",
       "      <th></th>\n",
       "      <th></th>\n",
       "      <th></th>\n",
       "      <th></th>\n",
       "      <th></th>\n",
       "      <th></th>\n",
       "      <th></th>\n",
       "    </tr>\n",
       "  </thead>\n",
       "  <tbody>\n",
       "    <tr>\n",
       "      <td>car</td>\n",
       "      <td>754343</td>\n",
       "      <td>754343</td>\n",
       "      <td>754343</td>\n",
       "      <td>754343</td>\n",
       "      <td>754343</td>\n",
       "      <td>754343</td>\n",
       "      <td>754343</td>\n",
       "    </tr>\n",
       "    <tr>\n",
       "      <td>walk</td>\n",
       "      <td>1582693</td>\n",
       "      <td>1582693</td>\n",
       "      <td>1582693</td>\n",
       "      <td>1582693</td>\n",
       "      <td>1582693</td>\n",
       "      <td>1582693</td>\n",
       "      <td>1582693</td>\n",
       "    </tr>\n",
       "  </tbody>\n",
       "</table>\n",
       "</div>"
      ],
      "text/plain": [
       "            Unnamed: 0  altitude  latitude  longitude  record_dt  trans_trip  \\\n",
       "trans_mode                                                                     \n",
       "car             754343    754343    754343     754343     754343      754343   \n",
       "walk           1582693   1582693   1582693    1582693    1582693     1582693   \n",
       "\n",
       "               user  \n",
       "trans_mode           \n",
       "car          754343  \n",
       "walk        1582693  "
      ]
     },
     "execution_count": 130,
     "metadata": {},
     "output_type": "execute_result"
    }
   ],
   "source": [
    "data.groupby(by=\"trans_mode\").count()"
   ]
  },
  {
   "cell_type": "code",
   "execution_count": 132,
   "metadata": {
    "ExecuteTime": {
     "end_time": "2019-09-23T19:58:39.893555Z",
     "start_time": "2019-09-23T19:58:39.890696Z"
    }
   },
   "outputs": [],
   "source": [
    "data_raw = data"
   ]
  },
  {
   "cell_type": "markdown",
   "metadata": {},
   "source": [
    "## Process data"
   ]
  },
  {
   "cell_type": "code",
   "execution_count": 133,
   "metadata": {
    "ExecuteTime": {
     "end_time": "2019-09-23T19:58:42.032441Z",
     "start_time": "2019-09-23T19:58:42.015124Z"
    }
   },
   "outputs": [],
   "source": [
    "users = data_raw['user'].unique()"
   ]
  },
  {
   "cell_type": "code",
   "execution_count": 138,
   "metadata": {
    "ExecuteTime": {
     "end_time": "2019-09-23T20:16:05.329209Z",
     "start_time": "2019-09-23T20:02:04.263091Z"
    }
   },
   "outputs": [
    {
     "name": "stdout",
     "output_type": "stream",
     "text": [
      "User: 106.0\n",
      "User: 163.0\n",
      "User: 82.0\n",
      "User: 89.0\n",
      "User: 112.0\n",
      "User: 128.0\n",
      "User: 102.0\n",
      "User: 86.0\n",
      "User: 167.0\n",
      "User: 21.0\n",
      "User: 126.0\n",
      "User: 65.0\n",
      "User: 139.0\n",
      "User: 108.0\n",
      "User: 153.0\n",
      "User: 75.0\n",
      "User: 129.0\n",
      "User: 10.0\n",
      "User: 179.0\n",
      "User: 98.0\n",
      "User: 175.0\n",
      "User: 53.0\n",
      "User: 154.0\n",
      "User: 125.0\n",
      "User: 58.0\n",
      "User: 80.0\n",
      "User: 161.0\n",
      "User: 62.0\n",
      "User: 84.0\n",
      "User: 144.0\n",
      "User: 69.0\n",
      "User: 76.0\n",
      "User: 114.0\n",
      "User: 52.0\n",
      "User: 111.0\n",
      "User: 174.0\n",
      "User: 105.0\n",
      "User: 81.0\n",
      "User: 67.0\n",
      "User: 78.0\n",
      "User: 101.0\n",
      "User: 85.0\n",
      "User: 115.0\n",
      "User: 68.0\n",
      "User: 56.0\n",
      "User: 138.0\n",
      "User: 64.0\n",
      "User: 20.0\n",
      "User: 96.0\n",
      "User: 92.0\n",
      "User: 60.0\n",
      "User: 107.0\n",
      "User: 97.0\n",
      "User: 136.0\n",
      "User: 117.0\n",
      "User: 87.0\n",
      "User: 147.0\n",
      "User: 110.0\n",
      "User: 104.0\n",
      "User: 73.0\n",
      "User: 141.0\n",
      "User: 91.0\n",
      "User: 170.0\n"
     ]
    }
   ],
   "source": [
    "data = pd.DataFrame()\n",
    "for user in users[:files_to_read]:\n",
    "    print(\"User: \" + str(user))\n",
    "    data_user = data_raw[data_raw.user == user]\n",
    "    trips = data_user['trans_trip'].unique()\n",
    "    for trip in trips[:]:\n",
    "        \n",
    "        # data_traj consist of all trajectories of one singel trip\n",
    "        \n",
    "        data_traj = data_user[data_user.trans_trip == trip]\n",
    "        data_traj = data_traj.sort_values(by=['record_dt'])\n",
    "        \n",
    "        # Distance to next entry in meters\n",
    "        data_traj['dist'] = haversine(data_traj.latitude, data_traj.longitude, data_traj.latitude.shift(-1), data_traj.longitude.shift(-1)) * 1000\n",
    "        \n",
    "        data_traj['bearing'] = bearing(data_traj.latitude, data_traj.longitude, data_traj.latitude.shift(-1), data_traj.longitude.shift(-1))\n",
    "        data_traj['brngChng'] = 180.0 - np.abs(np.abs(data_traj['bearing'] - data_traj['bearing'].shift(-1)) - 180.0)\n",
    "        \n",
    "        # Time difference to next entry in seconds\n",
    "        data_traj['time_delta'] = (data_traj.record_dt.shift(-1) - data_traj.record_dt).astype(\"int64\") / (1000000000.0)\n",
    "        \n",
    "        # Velocity until next entry in m/s\n",
    "        data_traj['velocity'] = data_traj['dist'] / (data_traj['time_delta'])\n",
    "        \n",
    "        # Acceleration in m/(sˆ2)\n",
    "        data_traj['acceleration'] = (data_traj['velocity'].shift(-1) - data_traj['velocity']) / (data_traj['time_delta'])\n",
    "        \n",
    "        \n",
    "        # Features \n",
    "        \n",
    "        temp =  pd.DataFrame()\n",
    "        \n",
    "        ## Labels, not used for ml model\n",
    "        temp['dist'] = data_traj['dist']\n",
    "        temp['user'] = data_traj['user']\n",
    "        temp['trans_trip'] = data_traj['trans_trip']\n",
    "    \n",
    "        \n",
    "        ## The velocities of the three segments\n",
    "        for i in range(3):\n",
    "            temp['v' + str(i)] = data_traj.velocity.shift(-i)\n",
    "        \n",
    "        ## The acceletations of the three segments\n",
    "        for i in range(3):\n",
    "            temp['a' + str(i)] = data_traj.acceleration.shift(-i)\n",
    "        \n",
    "        ## The bearing Change of the three segments\n",
    "        for i in range(3):\n",
    "            temp['brCh' + str(i)] = data_traj['brngChng'].shift(-i)\n",
    "            \n",
    "\n",
    "        temp['max(a)'] = temp[['a0', 'a1', 'a2']].values.max(1)\n",
    "        temp['min(a)'] = temp[['a0', 'a1', 'a2']].values.min(1)\n",
    "        temp['range(a)'] = temp['max(a)'] - temp['min(a)']\n",
    "        temp['sum(a)'] = temp['a0'] + temp['a2'] + temp['a2']\n",
    "        temp['avg(a)'] = temp['sum(a)'] / 3\n",
    "        temp['var(a)'] = ((temp['a0'] - temp['avg(a)'])**2\\\n",
    "                        + (temp['a1'] - temp['avg(a)'])**2\\\n",
    "                        + (temp['a2'] - temp['avg(a)']**2))/3\n",
    "        \n",
    "\n",
    "        \n",
    "        temp['max(v)'] = temp[['v0', 'v1', 'v2']].values.max(1)\n",
    "        temp['min(v)'] = temp[['v0', 'v1', 'v2']].values.min(1)\n",
    "        temp['range(v)'] = temp['max(v)'] - temp['min(v)']\n",
    "        temp['sum(v)'] = temp['v0'] + temp['v1'] + temp['v2']\n",
    "        temp['avg(v)'] = temp['sum(v)'] / 3\n",
    "        temp['var(v)'] = ((temp['v0'] - temp['avg(v)'])**2\\\n",
    "                        + (temp['v1'] - temp['avg(v)'])**2\\\n",
    "                        + (temp['v2'] - temp['avg(v)']**2))/3\n",
    "        \n",
    "\n",
    "        \n",
    "        temp['max(brCh)'] = temp[['brCh0', 'brCh1', 'brCh2']].values.max(1)\n",
    "        temp['min(brCh)'] = temp[['brCh0', 'brCh1', 'brCh2']].values.min(1)\n",
    "        temp['range(brCh)'] = temp['max(brCh)'] - temp['min(brCh)']\n",
    "        temp['sum(brCh)'] = temp['brCh0'] + temp['brCh1'] + temp['brCh2']  \n",
    "        temp['avg(brCh)'] = temp['sum(brCh)']/3\n",
    "        temp['var(brCh)'] = ((temp['brCh0'] - temp['avg(brCh)'])**2\\\n",
    "                           + (temp['brCh1'] - temp['avg(brCh)'])**2\\\n",
    "                           + (temp['brCh2'] - temp['avg(brCh)']**2))/3\n",
    "\n",
    "        temp['class'] = data_traj['trans_mode']\n",
    "        temp = temp.dropna()\n",
    "        \n",
    "        data = pd.concat([data,temp])\n",
    " "
   ]
  },
  {
   "cell_type": "markdown",
   "metadata": {},
   "source": [
    "## Preprocessing"
   ]
  },
  {
   "cell_type": "code",
   "execution_count": 139,
   "metadata": {
    "ExecuteTime": {
     "end_time": "2019-09-23T20:16:05.333416Z",
     "start_time": "2019-09-23T20:16:05.330956Z"
    }
   },
   "outputs": [],
   "source": [
    "final = data"
   ]
  },
  {
   "cell_type": "code",
   "execution_count": 140,
   "metadata": {
    "ExecuteTime": {
     "end_time": "2019-09-23T20:16:07.386416Z",
     "start_time": "2019-09-23T20:16:05.335859Z"
    }
   },
   "outputs": [
    {
     "data": {
      "text/html": [
       "<div>\n",
       "<style scoped>\n",
       "    .dataframe tbody tr th:only-of-type {\n",
       "        vertical-align: middle;\n",
       "    }\n",
       "\n",
       "    .dataframe tbody tr th {\n",
       "        vertical-align: top;\n",
       "    }\n",
       "\n",
       "    .dataframe thead th {\n",
       "        text-align: right;\n",
       "    }\n",
       "</style>\n",
       "<table border=\"1\" class=\"dataframe\">\n",
       "  <thead>\n",
       "    <tr style=\"text-align: right;\">\n",
       "      <th></th>\n",
       "      <th>dist</th>\n",
       "      <th>user</th>\n",
       "      <th>trans_trip</th>\n",
       "      <th>v0</th>\n",
       "      <th>v1</th>\n",
       "      <th>v2</th>\n",
       "      <th>a0</th>\n",
       "      <th>a1</th>\n",
       "      <th>a2</th>\n",
       "      <th>brCh0</th>\n",
       "      <th>...</th>\n",
       "      <th>range(v)</th>\n",
       "      <th>sum(v)</th>\n",
       "      <th>avg(v)</th>\n",
       "      <th>var(v)</th>\n",
       "      <th>max(brCh)</th>\n",
       "      <th>min(brCh)</th>\n",
       "      <th>range(brCh)</th>\n",
       "      <th>sum(brCh)</th>\n",
       "      <th>avg(brCh)</th>\n",
       "      <th>var(brCh)</th>\n",
       "    </tr>\n",
       "  </thead>\n",
       "  <tbody>\n",
       "    <tr>\n",
       "      <td>count</td>\n",
       "      <td>1.948736e+06</td>\n",
       "      <td>1.948736e+06</td>\n",
       "      <td>1.948736e+06</td>\n",
       "      <td>1.948736e+06</td>\n",
       "      <td>1.948736e+06</td>\n",
       "      <td>1.948736e+06</td>\n",
       "      <td>1.948736e+06</td>\n",
       "      <td>1.948736e+06</td>\n",
       "      <td>1.948736e+06</td>\n",
       "      <td>1.948736e+06</td>\n",
       "      <td>...</td>\n",
       "      <td>1.948736e+06</td>\n",
       "      <td>1.948736e+06</td>\n",
       "      <td>1.948736e+06</td>\n",
       "      <td>1.948736e+06</td>\n",
       "      <td>1.948736e+06</td>\n",
       "      <td>1.948736e+06</td>\n",
       "      <td>1.948736e+06</td>\n",
       "      <td>1.948736e+06</td>\n",
       "      <td>1.948736e+06</td>\n",
       "      <td>1.948736e+06</td>\n",
       "    </tr>\n",
       "    <tr>\n",
       "      <td>mean</td>\n",
       "      <td>1.931598e+01</td>\n",
       "      <td>1.084805e+02</td>\n",
       "      <td>3.963026e+02</td>\n",
       "      <td>4.572292e+00</td>\n",
       "      <td>4.564142e+00</td>\n",
       "      <td>4.561146e+00</td>\n",
       "      <td>-1.463382e-02</td>\n",
       "      <td>-1.265045e-02</td>\n",
       "      <td>-1.231927e-02</td>\n",
       "      <td>2.227616e+01</td>\n",
       "      <td>...</td>\n",
       "      <td>1.408769e+00</td>\n",
       "      <td>1.369758e+01</td>\n",
       "      <td>4.565860e+00</td>\n",
       "      <td>-1.286940e+01</td>\n",
       "      <td>3.884057e+01</td>\n",
       "      <td>7.812750e+00</td>\n",
       "      <td>3.102782e+01</td>\n",
       "      <td>6.679826e+01</td>\n",
       "      <td>2.226609e+01</td>\n",
       "      <td>-6.043959e+01</td>\n",
       "    </tr>\n",
       "    <tr>\n",
       "      <td>std</td>\n",
       "      <td>8.103477e+02</td>\n",
       "      <td>4.357164e+01</td>\n",
       "      <td>4.018653e+02</td>\n",
       "      <td>8.013037e+00</td>\n",
       "      <td>7.706786e+00</td>\n",
       "      <td>7.710662e+00</td>\n",
       "      <td>3.821264e+00</td>\n",
       "      <td>3.781633e+00</td>\n",
       "      <td>3.784746e+00</td>\n",
       "      <td>3.194544e+01</td>\n",
       "      <td>...</td>\n",
       "      <td>7.554105e+00</td>\n",
       "      <td>2.083052e+01</td>\n",
       "      <td>6.943507e+00</td>\n",
       "      <td>2.874187e+03</td>\n",
       "      <td>4.139993e+01</td>\n",
       "      <td>1.276854e+01</td>\n",
       "      <td>3.671814e+01</td>\n",
       "      <td>7.175314e+01</td>\n",
       "      <td>2.391771e+01</td>\n",
       "      <td>6.642624e+02</td>\n",
       "    </tr>\n",
       "    <tr>\n",
       "      <td>min</td>\n",
       "      <td>0.000000e+00</td>\n",
       "      <td>1.000000e+01</td>\n",
       "      <td>0.000000e+00</td>\n",
       "      <td>0.000000e+00</td>\n",
       "      <td>0.000000e+00</td>\n",
       "      <td>0.000000e+00</td>\n",
       "      <td>-4.141439e+03</td>\n",
       "      <td>-4.141439e+03</td>\n",
       "      <td>-4.141439e+03</td>\n",
       "      <td>0.000000e+00</td>\n",
       "      <td>...</td>\n",
       "      <td>0.000000e+00</td>\n",
       "      <td>0.000000e+00</td>\n",
       "      <td>0.000000e+00</td>\n",
       "      <td>-1.741959e+03</td>\n",
       "      <td>0.000000e+00</td>\n",
       "      <td>0.000000e+00</td>\n",
       "      <td>0.000000e+00</td>\n",
       "      <td>0.000000e+00</td>\n",
       "      <td>0.000000e+00</td>\n",
       "      <td>-1.074000e+04</td>\n",
       "    </tr>\n",
       "    <tr>\n",
       "      <td>25%</td>\n",
       "      <td>1.538046e+00</td>\n",
       "      <td>8.400000e+01</td>\n",
       "      <td>9.800000e+01</td>\n",
       "      <td>8.009791e-01</td>\n",
       "      <td>8.006814e-01</td>\n",
       "      <td>8.001620e-01</td>\n",
       "      <td>-1.725285e-01</td>\n",
       "      <td>-1.723435e-01</td>\n",
       "      <td>-1.723030e-01</td>\n",
       "      <td>2.179001e+00</td>\n",
       "      <td>...</td>\n",
       "      <td>3.506354e-01</td>\n",
       "      <td>2.727518e+00</td>\n",
       "      <td>9.091726e-01</td>\n",
       "      <td>-5.702955e+00</td>\n",
       "      <td>7.582030e+00</td>\n",
       "      <td>6.279653e-01</td>\n",
       "      <td>4.796508e+00</td>\n",
       "      <td>1.350904e+01</td>\n",
       "      <td>4.503013e+00</td>\n",
       "      <td>-6.677601e+01</td>\n",
       "    </tr>\n",
       "    <tr>\n",
       "      <td>50%</td>\n",
       "      <td>3.297438e+00</td>\n",
       "      <td>1.150000e+02</td>\n",
       "      <td>3.020000e+02</td>\n",
       "      <td>1.494983e+00</td>\n",
       "      <td>1.494151e+00</td>\n",
       "      <td>1.493560e+00</td>\n",
       "      <td>0.000000e+00</td>\n",
       "      <td>0.000000e+00</td>\n",
       "      <td>0.000000e+00</td>\n",
       "      <td>9.695908e+00</td>\n",
       "      <td>...</td>\n",
       "      <td>7.327886e-01</td>\n",
       "      <td>4.541849e+00</td>\n",
       "      <td>1.513950e+00</td>\n",
       "      <td>-1.360334e-01</td>\n",
       "      <td>2.428348e+01</td>\n",
       "      <td>3.232672e+00</td>\n",
       "      <td>1.707148e+01</td>\n",
       "      <td>4.332537e+01</td>\n",
       "      <td>1.444179e+01</td>\n",
       "      <td>-1.202815e+00</td>\n",
       "    </tr>\n",
       "    <tr>\n",
       "      <td>75%</td>\n",
       "      <td>1.249331e+01</td>\n",
       "      <td>1.530000e+02</td>\n",
       "      <td>5.680000e+02</td>\n",
       "      <td>5.318063e+00</td>\n",
       "      <td>5.302699e+00</td>\n",
       "      <td>5.291673e+00</td>\n",
       "      <td>1.692344e-01</td>\n",
       "      <td>1.690851e-01</td>\n",
       "      <td>1.689213e-01</td>\n",
       "      <td>2.776992e+01</td>\n",
       "      <td>...</td>\n",
       "      <td>1.487206e+00</td>\n",
       "      <td>1.586996e+01</td>\n",
       "      <td>5.289985e+00</td>\n",
       "      <td>5.315680e-02</td>\n",
       "      <td>5.522885e+01</td>\n",
       "      <td>9.681120e+00</td>\n",
       "      <td>4.259594e+01</td>\n",
       "      <td>9.418401e+01</td>\n",
       "      <td>3.139467e+01</td>\n",
       "      <td>4.035413e+00</td>\n",
       "    </tr>\n",
       "    <tr>\n",
       "      <td>max</td>\n",
       "      <td>1.077057e+06</td>\n",
       "      <td>1.790000e+02</td>\n",
       "      <td>3.151000e+03</td>\n",
       "      <td>4.142182e+03</td>\n",
       "      <td>4.142182e+03</td>\n",
       "      <td>4.142182e+03</td>\n",
       "      <td>2.070374e+03</td>\n",
       "      <td>2.070374e+03</td>\n",
       "      <td>2.070374e+03</td>\n",
       "      <td>1.800000e+02</td>\n",
       "      <td>...</td>\n",
       "      <td>4.141439e+03</td>\n",
       "      <td>4.145100e+03</td>\n",
       "      <td>1.381700e+03</td>\n",
       "      <td>2.540198e+06</td>\n",
       "      <td>1.800000e+02</td>\n",
       "      <td>1.800000e+02</td>\n",
       "      <td>1.800000e+02</td>\n",
       "      <td>5.400000e+02</td>\n",
       "      <td>1.800000e+02</td>\n",
       "      <td>4.800000e+03</td>\n",
       "    </tr>\n",
       "  </tbody>\n",
       "</table>\n",
       "<p>8 rows × 30 columns</p>\n",
       "</div>"
      ],
      "text/plain": [
       "               dist          user    trans_trip            v0            v1  \\\n",
       "count  1.948736e+06  1.948736e+06  1.948736e+06  1.948736e+06  1.948736e+06   \n",
       "mean   1.931598e+01  1.084805e+02  3.963026e+02  4.572292e+00  4.564142e+00   \n",
       "std    8.103477e+02  4.357164e+01  4.018653e+02  8.013037e+00  7.706786e+00   \n",
       "min    0.000000e+00  1.000000e+01  0.000000e+00  0.000000e+00  0.000000e+00   \n",
       "25%    1.538046e+00  8.400000e+01  9.800000e+01  8.009791e-01  8.006814e-01   \n",
       "50%    3.297438e+00  1.150000e+02  3.020000e+02  1.494983e+00  1.494151e+00   \n",
       "75%    1.249331e+01  1.530000e+02  5.680000e+02  5.318063e+00  5.302699e+00   \n",
       "max    1.077057e+06  1.790000e+02  3.151000e+03  4.142182e+03  4.142182e+03   \n",
       "\n",
       "                 v2            a0            a1            a2         brCh0  \\\n",
       "count  1.948736e+06  1.948736e+06  1.948736e+06  1.948736e+06  1.948736e+06   \n",
       "mean   4.561146e+00 -1.463382e-02 -1.265045e-02 -1.231927e-02  2.227616e+01   \n",
       "std    7.710662e+00  3.821264e+00  3.781633e+00  3.784746e+00  3.194544e+01   \n",
       "min    0.000000e+00 -4.141439e+03 -4.141439e+03 -4.141439e+03  0.000000e+00   \n",
       "25%    8.001620e-01 -1.725285e-01 -1.723435e-01 -1.723030e-01  2.179001e+00   \n",
       "50%    1.493560e+00  0.000000e+00  0.000000e+00  0.000000e+00  9.695908e+00   \n",
       "75%    5.291673e+00  1.692344e-01  1.690851e-01  1.689213e-01  2.776992e+01   \n",
       "max    4.142182e+03  2.070374e+03  2.070374e+03  2.070374e+03  1.800000e+02   \n",
       "\n",
       "       ...      range(v)        sum(v)        avg(v)        var(v)  \\\n",
       "count  ...  1.948736e+06  1.948736e+06  1.948736e+06  1.948736e+06   \n",
       "mean   ...  1.408769e+00  1.369758e+01  4.565860e+00 -1.286940e+01   \n",
       "std    ...  7.554105e+00  2.083052e+01  6.943507e+00  2.874187e+03   \n",
       "min    ...  0.000000e+00  0.000000e+00  0.000000e+00 -1.741959e+03   \n",
       "25%    ...  3.506354e-01  2.727518e+00  9.091726e-01 -5.702955e+00   \n",
       "50%    ...  7.327886e-01  4.541849e+00  1.513950e+00 -1.360334e-01   \n",
       "75%    ...  1.487206e+00  1.586996e+01  5.289985e+00  5.315680e-02   \n",
       "max    ...  4.141439e+03  4.145100e+03  1.381700e+03  2.540198e+06   \n",
       "\n",
       "          max(brCh)     min(brCh)   range(brCh)     sum(brCh)     avg(brCh)  \\\n",
       "count  1.948736e+06  1.948736e+06  1.948736e+06  1.948736e+06  1.948736e+06   \n",
       "mean   3.884057e+01  7.812750e+00  3.102782e+01  6.679826e+01  2.226609e+01   \n",
       "std    4.139993e+01  1.276854e+01  3.671814e+01  7.175314e+01  2.391771e+01   \n",
       "min    0.000000e+00  0.000000e+00  0.000000e+00  0.000000e+00  0.000000e+00   \n",
       "25%    7.582030e+00  6.279653e-01  4.796508e+00  1.350904e+01  4.503013e+00   \n",
       "50%    2.428348e+01  3.232672e+00  1.707148e+01  4.332537e+01  1.444179e+01   \n",
       "75%    5.522885e+01  9.681120e+00  4.259594e+01  9.418401e+01  3.139467e+01   \n",
       "max    1.800000e+02  1.800000e+02  1.800000e+02  5.400000e+02  1.800000e+02   \n",
       "\n",
       "          var(brCh)  \n",
       "count  1.948736e+06  \n",
       "mean  -6.043959e+01  \n",
       "std    6.642624e+02  \n",
       "min   -1.074000e+04  \n",
       "25%   -6.677601e+01  \n",
       "50%   -1.202815e+00  \n",
       "75%    4.035413e+00  \n",
       "max    4.800000e+03  \n",
       "\n",
       "[8 rows x 30 columns]"
      ]
     },
     "execution_count": 140,
     "metadata": {},
     "output_type": "execute_result"
    }
   ],
   "source": [
    "final.describe()"
   ]
  },
  {
   "cell_type": "code",
   "execution_count": 141,
   "metadata": {
    "ExecuteTime": {
     "end_time": "2019-09-23T20:16:10.660726Z",
     "start_time": "2019-09-23T20:16:07.388643Z"
    }
   },
   "outputs": [],
   "source": [
    "final = final.drop(final[(final['class'] == 'walk') & ((final['max(v)'] > 7) | (final['max(a)'] >= 3))].index)\n",
    "final = final.drop(final[(final['class'] == 'bike') & ((final['max(v)'] > 12) | (final['max(a)'] >= 3))].index)\n",
    "final = final.drop(final[(final['class'] == 'car') & ((final['max(v)'] > 50) | (final['max(a)'] >= 10))].index)\n",
    "final = final.drop(final[(final['class'] == 'train') & ((final['max(v)'] > 34) | (final['max(a)'] >= 3))].index)"
   ]
  },
  {
   "cell_type": "code",
   "execution_count": 142,
   "metadata": {
    "ExecuteTime": {
     "end_time": "2019-09-23T20:17:19.443887Z",
     "start_time": "2019-09-23T20:16:10.662559Z"
    }
   },
   "outputs": [
    {
     "name": "stdout",
     "output_type": "stream",
     "text": [
      "1654779 trajectory segments are saved for classification.\n"
     ]
    }
   ],
   "source": [
    "final.to_csv(output_file)\n",
    "print(str(len(final)) + \" trajectory segments are saved for classification.\")"
   ]
  },
  {
   "cell_type": "code",
   "execution_count": 143,
   "metadata": {
    "ExecuteTime": {
     "end_time": "2019-09-23T20:17:19.520817Z",
     "start_time": "2019-09-23T20:17:19.446509Z"
    }
   },
   "outputs": [
    {
     "data": {
      "text/plain": [
       "array(['car', 'walk'], dtype=object)"
      ]
     },
     "execution_count": 143,
     "metadata": {},
     "output_type": "execute_result"
    }
   ],
   "source": [
    "final['class'].unique()"
   ]
  },
  {
   "cell_type": "code",
   "execution_count": 144,
   "metadata": {
    "ExecuteTime": {
     "end_time": "2019-09-23T20:17:20.286947Z",
     "start_time": "2019-09-23T20:17:19.524617Z"
    }
   },
   "outputs": [
    {
     "data": {
      "text/html": [
       "<div>\n",
       "<style scoped>\n",
       "    .dataframe tbody tr th:only-of-type {\n",
       "        vertical-align: middle;\n",
       "    }\n",
       "\n",
       "    .dataframe tbody tr th {\n",
       "        vertical-align: top;\n",
       "    }\n",
       "\n",
       "    .dataframe thead th {\n",
       "        text-align: right;\n",
       "    }\n",
       "</style>\n",
       "<table border=\"1\" class=\"dataframe\">\n",
       "  <thead>\n",
       "    <tr style=\"text-align: right;\">\n",
       "      <th></th>\n",
       "      <th>dist</th>\n",
       "      <th>user</th>\n",
       "      <th>trans_trip</th>\n",
       "      <th>v0</th>\n",
       "      <th>v1</th>\n",
       "      <th>v2</th>\n",
       "      <th>a0</th>\n",
       "      <th>a1</th>\n",
       "      <th>a2</th>\n",
       "      <th>brCh0</th>\n",
       "      <th>...</th>\n",
       "      <th>range(v)</th>\n",
       "      <th>sum(v)</th>\n",
       "      <th>avg(v)</th>\n",
       "      <th>var(v)</th>\n",
       "      <th>max(brCh)</th>\n",
       "      <th>min(brCh)</th>\n",
       "      <th>range(brCh)</th>\n",
       "      <th>sum(brCh)</th>\n",
       "      <th>avg(brCh)</th>\n",
       "      <th>var(brCh)</th>\n",
       "    </tr>\n",
       "    <tr>\n",
       "      <th>class</th>\n",
       "      <th></th>\n",
       "      <th></th>\n",
       "      <th></th>\n",
       "      <th></th>\n",
       "      <th></th>\n",
       "      <th></th>\n",
       "      <th></th>\n",
       "      <th></th>\n",
       "      <th></th>\n",
       "      <th></th>\n",
       "      <th></th>\n",
       "      <th></th>\n",
       "      <th></th>\n",
       "      <th></th>\n",
       "      <th></th>\n",
       "      <th></th>\n",
       "      <th></th>\n",
       "      <th></th>\n",
       "      <th></th>\n",
       "      <th></th>\n",
       "      <th></th>\n",
       "    </tr>\n",
       "  </thead>\n",
       "  <tbody>\n",
       "    <tr>\n",
       "      <td>car</td>\n",
       "      <td>608494</td>\n",
       "      <td>608494</td>\n",
       "      <td>608494</td>\n",
       "      <td>608494</td>\n",
       "      <td>608494</td>\n",
       "      <td>608494</td>\n",
       "      <td>608494</td>\n",
       "      <td>608494</td>\n",
       "      <td>608494</td>\n",
       "      <td>608494</td>\n",
       "      <td>...</td>\n",
       "      <td>608494</td>\n",
       "      <td>608494</td>\n",
       "      <td>608494</td>\n",
       "      <td>608494</td>\n",
       "      <td>608494</td>\n",
       "      <td>608494</td>\n",
       "      <td>608494</td>\n",
       "      <td>608494</td>\n",
       "      <td>608494</td>\n",
       "      <td>608494</td>\n",
       "    </tr>\n",
       "    <tr>\n",
       "      <td>walk</td>\n",
       "      <td>1046285</td>\n",
       "      <td>1046285</td>\n",
       "      <td>1046285</td>\n",
       "      <td>1046285</td>\n",
       "      <td>1046285</td>\n",
       "      <td>1046285</td>\n",
       "      <td>1046285</td>\n",
       "      <td>1046285</td>\n",
       "      <td>1046285</td>\n",
       "      <td>1046285</td>\n",
       "      <td>...</td>\n",
       "      <td>1046285</td>\n",
       "      <td>1046285</td>\n",
       "      <td>1046285</td>\n",
       "      <td>1046285</td>\n",
       "      <td>1046285</td>\n",
       "      <td>1046285</td>\n",
       "      <td>1046285</td>\n",
       "      <td>1046285</td>\n",
       "      <td>1046285</td>\n",
       "      <td>1046285</td>\n",
       "    </tr>\n",
       "  </tbody>\n",
       "</table>\n",
       "<p>2 rows × 30 columns</p>\n",
       "</div>"
      ],
      "text/plain": [
       "          dist     user  trans_trip       v0       v1       v2       a0  \\\n",
       "class                                                                     \n",
       "car     608494   608494      608494   608494   608494   608494   608494   \n",
       "walk   1046285  1046285     1046285  1046285  1046285  1046285  1046285   \n",
       "\n",
       "            a1       a2    brCh0  ...  range(v)   sum(v)   avg(v)   var(v)  \\\n",
       "class                             ...                                        \n",
       "car     608494   608494   608494  ...    608494   608494   608494   608494   \n",
       "walk   1046285  1046285  1046285  ...   1046285  1046285  1046285  1046285   \n",
       "\n",
       "       max(brCh)  min(brCh)  range(brCh)  sum(brCh)  avg(brCh)  var(brCh)  \n",
       "class                                                                      \n",
       "car       608494     608494       608494     608494     608494     608494  \n",
       "walk     1046285    1046285      1046285    1046285    1046285    1046285  \n",
       "\n",
       "[2 rows x 30 columns]"
      ]
     },
     "execution_count": 144,
     "metadata": {},
     "output_type": "execute_result"
    }
   ],
   "source": [
    "final.groupby(by= \"class\").count()"
   ]
  },
  {
   "cell_type": "code",
   "execution_count": null,
   "metadata": {},
   "outputs": [],
   "source": []
  }
 ],
 "metadata": {
  "kernelspec": {
   "display_name": "Python 3",
   "language": "python",
   "name": "python3"
  },
  "language_info": {
   "codemirror_mode": {
    "name": "ipython",
    "version": 3
   },
   "file_extension": ".py",
   "mimetype": "text/x-python",
   "name": "python",
   "nbconvert_exporter": "python",
   "pygments_lexer": "ipython3",
   "version": "3.7.3"
  }
 },
 "nbformat": 4,
 "nbformat_minor": 2
}
