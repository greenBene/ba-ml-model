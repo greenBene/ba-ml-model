{
 "cells": [
  {
   "cell_type": "markdown",
   "metadata": {},
   "source": [
    "# GeoLife 1.3 Data Preparation\n",
    "\n",
    "In this notebook, the geolife 1.3 dataset is prepared for further processing in the Bachelor thesis \"Design and Implementation of an iPhone Application to Determine the Parking Position of a Car by Trajectory Analysis\". It is based on the work of https://github.com/jmharkins/trajectory-data "
   ]
  },
  {
   "cell_type": "code",
   "execution_count": 1,
   "metadata": {
    "ExecuteTime": {
     "end_time": "2019-08-28T15:26:39.047658Z",
     "start_time": "2019-08-28T15:26:37.508529Z"
    }
   },
   "outputs": [],
   "source": [
    "import pandas as pd\n",
    "import numpy as np\n",
    "import datetime as dt\n",
    "import os\n",
    "import time"
   ]
  },
  {
   "cell_type": "markdown",
   "metadata": {
    "ExecuteTime": {
     "end_time": "2019-08-27T14:18:23.392220Z",
     "start_time": "2019-08-27T14:18:23.387692Z"
    }
   },
   "source": [
    "Load trajectory file names"
   ]
  },
  {
   "cell_type": "code",
   "execution_count": 3,
   "metadata": {
    "ExecuteTime": {
     "end_time": "2019-08-27T14:30:59.170806Z",
     "start_time": "2019-08-27T14:30:59.156933Z"
    }
   },
   "outputs": [],
   "source": [
    "data_dir = 'geolife-data/Data'\n",
    "output_dir = 'geolife-data/Prepared'\n",
    "dirlist = os.listdir(data_dir)\n",
    "\n",
    "label_dirs = []\n",
    "for dir in dirlist[1:]:\n",
    "    if not os.path.isdir(data_dir + \"/\" + dir):\n",
    "        continue\n",
    "    trajlist = os.listdir(data_dir + '/' + dir)\n",
    "    if 'labels.txt' in trajlist:\n",
    "        label_dirs.append(data_dir + '/' + dir)\n",
    "\n",
    "traj_columns = ['latitude','longitude','altitude','days_total','date','time']"
   ]
  },
  {
   "cell_type": "markdown",
   "metadata": {},
   "source": [
    "### Function to Check if DateTime Record is in Given Trip"
   ]
  },
  {
   "cell_type": "code",
   "execution_count": 4,
   "metadata": {
    "ExecuteTime": {
     "end_time": "2019-08-27T14:31:00.626299Z",
     "start_time": "2019-08-27T14:31:00.621571Z"
    }
   },
   "outputs": [],
   "source": [
    "def get_trans_trip(record_dt,ref_df):\n",
    "    time_fit = (record_dt >= ref_df['Start Time']) & (record_dt <= ref_df['End Time'])\n",
    "    nmatch = time_fit.sum()\n",
    "    if nmatch == 0:\n",
    "        t_idx = None\n",
    "    else:\n",
    "        t_idx = ref_df.loc[time_fit].iloc[0].name\n",
    "    return t_idx"
   ]
  },
  {
   "cell_type": "code",
   "execution_count": 7,
   "metadata": {
    "ExecuteTime": {
     "end_time": "2019-08-27T14:32:42.790612Z",
     "start_time": "2019-08-27T14:32:34.256993Z"
    }
   },
   "outputs": [
    {
     "name": "stdout",
     "output_type": "stream",
     "text": [
      "Tue Aug 27 16:32:34 2019| 1/69: geolife-data/Data/104\n",
      "Tue Aug 27 16:32:41 2019| 2/69: geolife-data/Data/161\n",
      "Tue Aug 27 16:32:42 2019| Finished. Read 2 ot of 69 labeled trajectory sets.\n"
     ]
    }
   ],
   "source": [
    "ldirs_counter = 0\n",
    "for ldirs in label_dirs[:2]:\n",
    "    all_traj = pd.DataFrame()\n",
    "    ldirs_counter+=1\n",
    "    print( time.asctime(time.localtime(time.time())) + '| ' + str(ldirs_counter) + '/' + str(len(label_dirs)) + \": \" + ldirs)\n",
    "    user = ldirs[-3:] # loads usr id from given directory\n",
    "    trajpath = ldirs + '/Trajectory/'\n",
    "    traj_files = os.listdir(trajpath) # load trajectory file names\n",
    "    \n",
    "    # load transport mode labels into dataframe \n",
    "    trip_trans = pd.read_csv(ldirs+'/labels.txt',sep='\\t')\n",
    "    trip_trans['Start Time'] = pd.to_datetime(trip_trans['Start Time'])\n",
    "    trip_trans['End Time'] = pd.to_datetime(trip_trans['End Time'])\n",
    "    trip_s_dates = trip_trans['Start Time'].dt.date.unique()\n",
    "    trip_e_dates = trip_trans['End Time'].dt.date.unique()\n",
    "    trip_a_dates = np.unique(np.append(trip_s_dates,trip_e_dates))\n",
    "    \n",
    "    for tf in traj_files:        \n",
    "        \n",
    "        # create trajectory_df\n",
    "        traj_df = (pd.read_csv(trajpath+tf,\n",
    "                               skiprows=6,\n",
    "                               usecols=[0,1,3,4,5,6],\n",
    "                               names=traj_columns)\n",
    "            .assign(\n",
    "                record_dt = lambda x: pd.to_datetime(x['date'] + ' ' + x['time']), # create datetime column \n",
    "                user = user)) # assign user to distinguish the trajectories when merged later.\n",
    "        \n",
    "        if traj_df['record_dt'].dt.date.isin(trip_a_dates).any():\n",
    "            traj_df['trans_trip'] = traj_df.apply(lambda x: get_trans_trip(x.record_dt,trip_trans),axis=1)\n",
    "            has_trip = ~(traj_df.trans_trip.isnull())\n",
    "            traj_df['trans_mode'] = np.nan\n",
    "            traj_df.loc[has_trip,'trans_mode'] = traj_df.loc[has_trip].apply(lambda x: trip_trans.loc[x.trans_trip,'Transportation Mode'],axis=1)\n",
    "            all_traj = pd.concat([all_traj,traj_df])\n",
    "    all_traj.to_csv(output_dir + '/'+ ldirs[-3:] + '_trip_labeled.csv')\n",
    "    \n",
    "print( time.asctime(time.localtime(time.time())) + \\\n",
    "      '| Finished. Read ' + str(ldirs_counter) + \\\n",
    "      ' out of ' + str(len(label_dirs)) + \" labeled trajectory sets.\")"
   ]
  },
  {
   "cell_type": "code",
   "execution_count": null,
   "metadata": {},
   "outputs": [],
   "source": []
  }
 ],
 "metadata": {
  "kernelspec": {
   "display_name": "Python 3",
   "language": "python",
   "name": "python3"
  },
  "language_info": {
   "codemirror_mode": {
    "name": "ipython",
    "version": 3
   },
   "file_extension": ".py",
   "mimetype": "text/x-python",
   "name": "python",
   "nbconvert_exporter": "python",
   "pygments_lexer": "ipython3",
   "version": "3.7.3"
  }
 },
 "nbformat": 4,
 "nbformat_minor": 2
}
