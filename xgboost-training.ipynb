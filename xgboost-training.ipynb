{
 "cells": [
  {
   "cell_type": "code",
   "execution_count": 7,
   "metadata": {
    "ExecuteTime": {
     "end_time": "2019-08-31T15:48:37.442827Z",
     "start_time": "2019-08-31T15:48:37.438832Z"
    }
   },
   "outputs": [],
   "source": [
    "import pandas as pd\n",
    "import numpy as np\n",
    "import datetime as dt\n",
    "import os\n",
    "import time\n",
    "import xgboost as xgb\n",
    "from sklearn.metrics import mean_squared_error, confusion_matrix, accuracy_score\n",
    "from sklearn.model_selection import train_test_split\n",
    "\n",
    "pd.set_option('mode.chained_assignment', None)"
   ]
  },
  {
   "cell_type": "code",
   "execution_count": 17,
   "metadata": {
    "ExecuteTime": {
     "end_time": "2019-08-31T15:49:43.577673Z",
     "start_time": "2019-08-31T15:49:43.574867Z"
    }
   },
   "outputs": [],
   "source": [
    "#constants\n",
    "\n",
    "data_file = 'processed_data.csv'"
   ]
  },
  {
   "cell_type": "code",
   "execution_count": 18,
   "metadata": {
    "ExecuteTime": {
     "end_time": "2019-08-31T15:49:44.814815Z",
     "start_time": "2019-08-31T15:49:43.827592Z"
    }
   },
   "outputs": [],
   "source": [
    "data = pd.read_csv(data_file, usecols=[1,2,3,4,5,6,7,8,9,10,11,12,13,14,15])"
   ]
  },
  {
   "cell_type": "code",
   "execution_count": 19,
   "metadata": {
    "ExecuteTime": {
     "end_time": "2019-08-31T15:49:44.883651Z",
     "start_time": "2019-08-31T15:49:44.816556Z"
    }
   },
   "outputs": [
    {
     "data": {
      "text/html": [
       "<div>\n",
       "<style scoped>\n",
       "    .dataframe tbody tr th:only-of-type {\n",
       "        vertical-align: middle;\n",
       "    }\n",
       "\n",
       "    .dataframe tbody tr th {\n",
       "        vertical-align: top;\n",
       "    }\n",
       "\n",
       "    .dataframe thead th {\n",
       "        text-align: right;\n",
       "    }\n",
       "</style>\n",
       "<table border=\"1\" class=\"dataframe\">\n",
       "  <thead>\n",
       "    <tr style=\"text-align: right;\">\n",
       "      <th></th>\n",
       "      <th>v0</th>\n",
       "      <th>v1</th>\n",
       "      <th>v2</th>\n",
       "      <th>a0</th>\n",
       "      <th>a1</th>\n",
       "      <th>a2</th>\n",
       "      <th>max(a)</th>\n",
       "      <th>min(a)</th>\n",
       "      <th>avg(a)</th>\n",
       "      <th>var(a)</th>\n",
       "      <th>max(v)</th>\n",
       "      <th>min(v)</th>\n",
       "      <th>avg(v)</th>\n",
       "      <th>var(v)</th>\n",
       "    </tr>\n",
       "    <tr>\n",
       "      <th>class</th>\n",
       "      <th></th>\n",
       "      <th></th>\n",
       "      <th></th>\n",
       "      <th></th>\n",
       "      <th></th>\n",
       "      <th></th>\n",
       "      <th></th>\n",
       "      <th></th>\n",
       "      <th></th>\n",
       "      <th></th>\n",
       "      <th></th>\n",
       "      <th></th>\n",
       "      <th></th>\n",
       "      <th></th>\n",
       "    </tr>\n",
       "  </thead>\n",
       "  <tbody>\n",
       "    <tr>\n",
       "      <td>bike</td>\n",
       "      <td>79307</td>\n",
       "      <td>79307</td>\n",
       "      <td>79307</td>\n",
       "      <td>79307</td>\n",
       "      <td>79307</td>\n",
       "      <td>79307</td>\n",
       "      <td>79307</td>\n",
       "      <td>79307</td>\n",
       "      <td>79307</td>\n",
       "      <td>79307</td>\n",
       "      <td>79307</td>\n",
       "      <td>79307</td>\n",
       "      <td>79307</td>\n",
       "      <td>79307</td>\n",
       "    </tr>\n",
       "    <tr>\n",
       "      <td>bus</td>\n",
       "      <td>30903</td>\n",
       "      <td>30903</td>\n",
       "      <td>30903</td>\n",
       "      <td>30903</td>\n",
       "      <td>30903</td>\n",
       "      <td>30903</td>\n",
       "      <td>30903</td>\n",
       "      <td>30903</td>\n",
       "      <td>30903</td>\n",
       "      <td>30903</td>\n",
       "      <td>30903</td>\n",
       "      <td>30903</td>\n",
       "      <td>30903</td>\n",
       "      <td>30903</td>\n",
       "    </tr>\n",
       "    <tr>\n",
       "      <td>car</td>\n",
       "      <td>214843</td>\n",
       "      <td>214843</td>\n",
       "      <td>214843</td>\n",
       "      <td>214843</td>\n",
       "      <td>214843</td>\n",
       "      <td>214843</td>\n",
       "      <td>214843</td>\n",
       "      <td>214843</td>\n",
       "      <td>214843</td>\n",
       "      <td>214843</td>\n",
       "      <td>214843</td>\n",
       "      <td>214843</td>\n",
       "      <td>214843</td>\n",
       "      <td>214843</td>\n",
       "    </tr>\n",
       "    <tr>\n",
       "      <td>train</td>\n",
       "      <td>12571</td>\n",
       "      <td>12571</td>\n",
       "      <td>12571</td>\n",
       "      <td>12571</td>\n",
       "      <td>12571</td>\n",
       "      <td>12571</td>\n",
       "      <td>12571</td>\n",
       "      <td>12571</td>\n",
       "      <td>12571</td>\n",
       "      <td>12571</td>\n",
       "      <td>12571</td>\n",
       "      <td>12571</td>\n",
       "      <td>12571</td>\n",
       "      <td>12571</td>\n",
       "    </tr>\n",
       "    <tr>\n",
       "      <td>walk</td>\n",
       "      <td>145433</td>\n",
       "      <td>145433</td>\n",
       "      <td>145433</td>\n",
       "      <td>145433</td>\n",
       "      <td>145433</td>\n",
       "      <td>145433</td>\n",
       "      <td>145433</td>\n",
       "      <td>145433</td>\n",
       "      <td>145433</td>\n",
       "      <td>145433</td>\n",
       "      <td>145433</td>\n",
       "      <td>145433</td>\n",
       "      <td>145433</td>\n",
       "      <td>145433</td>\n",
       "    </tr>\n",
       "  </tbody>\n",
       "</table>\n",
       "</div>"
      ],
      "text/plain": [
       "           v0      v1      v2      a0      a1      a2  max(a)  min(a)  avg(a)  \\\n",
       "class                                                                           \n",
       "bike    79307   79307   79307   79307   79307   79307   79307   79307   79307   \n",
       "bus     30903   30903   30903   30903   30903   30903   30903   30903   30903   \n",
       "car    214843  214843  214843  214843  214843  214843  214843  214843  214843   \n",
       "train   12571   12571   12571   12571   12571   12571   12571   12571   12571   \n",
       "walk   145433  145433  145433  145433  145433  145433  145433  145433  145433   \n",
       "\n",
       "       var(a)  max(v)  min(v)  avg(v)  var(v)  \n",
       "class                                          \n",
       "bike    79307   79307   79307   79307   79307  \n",
       "bus     30903   30903   30903   30903   30903  \n",
       "car    214843  214843  214843  214843  214843  \n",
       "train   12571   12571   12571   12571   12571  \n",
       "walk   145433  145433  145433  145433  145433  "
      ]
     },
     "execution_count": 19,
     "metadata": {},
     "output_type": "execute_result"
    }
   ],
   "source": [
    "data.groupby(by='class').count()"
   ]
  },
  {
   "cell_type": "code",
   "execution_count": 20,
   "metadata": {
    "ExecuteTime": {
     "end_time": "2019-08-31T15:49:47.995401Z",
     "start_time": "2019-08-31T15:49:47.974780Z"
    }
   },
   "outputs": [
    {
     "data": {
      "text/plain": [
       "array(['car', 'walk', 'bike', 'bus', 'train'], dtype=object)"
      ]
     },
     "execution_count": 20,
     "metadata": {},
     "output_type": "execute_result"
    }
   ],
   "source": [
    "data['class'].unique()"
   ]
  },
  {
   "cell_type": "code",
   "execution_count": 12,
   "metadata": {
    "ExecuteTime": {
     "end_time": "2019-08-31T15:48:46.189937Z",
     "start_time": "2019-08-31T15:48:46.142168Z"
    }
   },
   "outputs": [],
   "source": [
    "data['class'][data['class'] != 'car'] = 'not-car'"
   ]
  },
  {
   "cell_type": "code",
   "execution_count": 21,
   "metadata": {
    "ExecuteTime": {
     "end_time": "2019-08-31T15:49:51.508556Z",
     "start_time": "2019-08-31T15:49:51.402038Z"
    }
   },
   "outputs": [],
   "source": [
    "X, y = data.iloc[:,:-1],data.iloc[:,-1]\n",
    "X_train, X_test, y_train, y_test = train_test_split(X, y, test_size=0.2, random_state=123)"
   ]
  },
  {
   "cell_type": "code",
   "execution_count": 22,
   "metadata": {
    "ExecuteTime": {
     "end_time": "2019-08-31T15:51:38.522318Z",
     "start_time": "2019-08-31T15:49:52.183045Z"
    }
   },
   "outputs": [
    {
     "data": {
      "text/plain": [
       "XGBClassifier(base_score=0.5, booster='gbtree', colsample_bylevel=1,\n",
       "              colsample_bytree=1, gamma=0, learning_rate=0.5, max_delta_step=0,\n",
       "              max_depth=10, min_child_weight=1, missing=None, n_estimators=10,\n",
       "              n_jobs=1, nthread=None, objective='multi:softprob',\n",
       "              random_state=0, reg_alpha=0, reg_lambda=1, scale_pos_weight=1,\n",
       "              seed=None, silent=True, subsample=1)"
      ]
     },
     "execution_count": 22,
     "metadata": {},
     "output_type": "execute_result"
    }
   ],
   "source": [
    "xg_reg = xgb.XGBClassifier(objective ='reg:logistic', colsample_bytree = 1, learning_rate = 0.5,\n",
    "                max_depth = 10, n_estimators = 10)\n",
    "\n",
    "xg_reg.fit(X_train,y_train)"
   ]
  },
  {
   "cell_type": "code",
   "execution_count": 23,
   "metadata": {
    "ExecuteTime": {
     "end_time": "2019-08-31T15:51:41.794802Z",
     "start_time": "2019-08-31T15:51:38.524537Z"
    }
   },
   "outputs": [
    {
     "name": "stdout",
     "output_type": "stream",
     "text": [
      "              precision    recall  f1-score   support\n",
      "\n",
      "        bike       0.71      0.64      0.67     16004\n",
      "         bus       0.49      0.07      0.13      6076\n",
      "         car       0.79      0.72      0.76     42812\n",
      "       train       0.75      0.43      0.55      2526\n",
      "        walk       0.63      0.88      0.74     29194\n",
      "\n",
      "    accuracy                           0.71     96612\n",
      "   macro avg       0.68      0.55      0.57     96612\n",
      "weighted avg       0.71      0.71      0.69     96612\n",
      "\n"
     ]
    }
   ],
   "source": [
    "from sklearn.metrics import classification_report\n",
    "preds = xg_reg.predict(X_test)\n",
    "print(classification_report(y_test,preds))\n",
    "print(confusion_matrix(y_test,preds), labels=['car', 'walk', 'bike', 'bus', 'train'])"
   ]
  },
  {
   "cell_type": "code",
   "execution_count": null,
   "metadata": {
    "ExecuteTime": {
     "end_time": "2019-08-31T15:21:30.131276Z",
     "start_time": "2019-08-31T15:21:29.935998Z"
    }
   },
   "outputs": [],
   "source": [
    "import matplotlib.pyplot as plt\n",
    "xgb.plot_importance(xg_reg)\n",
    "plt.rcParams['figure.figsize'] = [5, 5]\n",
    "plt.show()"
   ]
  },
  {
   "cell_type": "code",
   "execution_count": null,
   "metadata": {},
   "outputs": [],
   "source": []
  }
 ],
 "metadata": {
  "kernelspec": {
   "display_name": "Python 3",
   "language": "python",
   "name": "python3"
  },
  "language_info": {
   "codemirror_mode": {
    "name": "ipython",
    "version": 3
   },
   "file_extension": ".py",
   "mimetype": "text/x-python",
   "name": "python",
   "nbconvert_exporter": "python",
   "pygments_lexer": "ipython3",
   "version": "3.7.3"
  }
 },
 "nbformat": 4,
 "nbformat_minor": 2
}
