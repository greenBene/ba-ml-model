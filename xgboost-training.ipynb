{
 "cells": [
  {
   "cell_type": "code",
   "execution_count": 50,
   "metadata": {
    "ExecuteTime": {
     "end_time": "2019-09-10T09:45:45.633596Z",
     "start_time": "2019-09-10T09:45:45.629866Z"
    }
   },
   "outputs": [],
   "source": [
    "import pandas as pd\n",
    "import numpy as np\n",
    "import datetime as dt\n",
    "import os\n",
    "import time\n",
    "import xgboost as xgb\n",
    "from sklearn.metrics import mean_squared_error, confusion_matrix, accuracy_score\n",
    "from sklearn.model_selection import train_test_split\n",
    "\n",
    "pd.set_option('mode.chained_assignment', None)"
   ]
  },
  {
   "cell_type": "code",
   "execution_count": 51,
   "metadata": {
    "ExecuteTime": {
     "end_time": "2019-09-10T09:45:46.426357Z",
     "start_time": "2019-09-10T09:45:46.423541Z"
    }
   },
   "outputs": [],
   "source": [
    "#constants\n",
    "\n",
    "data_file = 'processed_data_2.csv'"
   ]
  },
  {
   "cell_type": "code",
   "execution_count": 52,
   "metadata": {
    "ExecuteTime": {
     "end_time": "2019-09-10T09:45:48.153380Z",
     "start_time": "2019-09-10T09:45:47.192540Z"
    }
   },
   "outputs": [],
   "source": [
    "data = pd.read_csv(data_file, usecols=[1,2,3,4,5,6,7,8,9,10,11,12,13,14,15,16])"
   ]
  },
  {
   "cell_type": "code",
   "execution_count": 53,
   "metadata": {
    "ExecuteTime": {
     "end_time": "2019-09-10T09:45:49.137444Z",
     "start_time": "2019-09-10T09:45:49.066651Z"
    }
   },
   "outputs": [
    {
     "data": {
      "text/html": [
       "<div>\n",
       "<style scoped>\n",
       "    .dataframe tbody tr th:only-of-type {\n",
       "        vertical-align: middle;\n",
       "    }\n",
       "\n",
       "    .dataframe tbody tr th {\n",
       "        vertical-align: top;\n",
       "    }\n",
       "\n",
       "    .dataframe thead th {\n",
       "        text-align: right;\n",
       "    }\n",
       "</style>\n",
       "<table border=\"1\" class=\"dataframe\">\n",
       "  <thead>\n",
       "    <tr style=\"text-align: right;\">\n",
       "      <th></th>\n",
       "      <th>v0</th>\n",
       "      <th>v1</th>\n",
       "      <th>v2</th>\n",
       "      <th>a0</th>\n",
       "      <th>a1</th>\n",
       "      <th>a2</th>\n",
       "      <th>max(a)</th>\n",
       "      <th>min(a)</th>\n",
       "      <th>avg(a)</th>\n",
       "      <th>var(a)</th>\n",
       "      <th>max(v)</th>\n",
       "      <th>min(v)</th>\n",
       "      <th>avg(v)</th>\n",
       "      <th>var(v)</th>\n",
       "      <th>brngChng</th>\n",
       "    </tr>\n",
       "    <tr>\n",
       "      <th>class</th>\n",
       "      <th></th>\n",
       "      <th></th>\n",
       "      <th></th>\n",
       "      <th></th>\n",
       "      <th></th>\n",
       "      <th></th>\n",
       "      <th></th>\n",
       "      <th></th>\n",
       "      <th></th>\n",
       "      <th></th>\n",
       "      <th></th>\n",
       "      <th></th>\n",
       "      <th></th>\n",
       "      <th></th>\n",
       "      <th></th>\n",
       "    </tr>\n",
       "  </thead>\n",
       "  <tbody>\n",
       "    <tr>\n",
       "      <td>bike</td>\n",
       "      <td>79307</td>\n",
       "      <td>79307</td>\n",
       "      <td>79307</td>\n",
       "      <td>79307</td>\n",
       "      <td>79307</td>\n",
       "      <td>79307</td>\n",
       "      <td>79307</td>\n",
       "      <td>79307</td>\n",
       "      <td>79307</td>\n",
       "      <td>79307</td>\n",
       "      <td>79307</td>\n",
       "      <td>79307</td>\n",
       "      <td>79307</td>\n",
       "      <td>79307</td>\n",
       "      <td>79307</td>\n",
       "    </tr>\n",
       "    <tr>\n",
       "      <td>bus</td>\n",
       "      <td>30903</td>\n",
       "      <td>30903</td>\n",
       "      <td>30903</td>\n",
       "      <td>30903</td>\n",
       "      <td>30903</td>\n",
       "      <td>30903</td>\n",
       "      <td>30903</td>\n",
       "      <td>30903</td>\n",
       "      <td>30903</td>\n",
       "      <td>30903</td>\n",
       "      <td>30903</td>\n",
       "      <td>30903</td>\n",
       "      <td>30903</td>\n",
       "      <td>30903</td>\n",
       "      <td>30903</td>\n",
       "    </tr>\n",
       "    <tr>\n",
       "      <td>car</td>\n",
       "      <td>214843</td>\n",
       "      <td>214843</td>\n",
       "      <td>214843</td>\n",
       "      <td>214843</td>\n",
       "      <td>214843</td>\n",
       "      <td>214843</td>\n",
       "      <td>214843</td>\n",
       "      <td>214843</td>\n",
       "      <td>214843</td>\n",
       "      <td>214843</td>\n",
       "      <td>214843</td>\n",
       "      <td>214843</td>\n",
       "      <td>214843</td>\n",
       "      <td>214843</td>\n",
       "      <td>214843</td>\n",
       "    </tr>\n",
       "    <tr>\n",
       "      <td>train</td>\n",
       "      <td>12571</td>\n",
       "      <td>12571</td>\n",
       "      <td>12571</td>\n",
       "      <td>12571</td>\n",
       "      <td>12571</td>\n",
       "      <td>12571</td>\n",
       "      <td>12571</td>\n",
       "      <td>12571</td>\n",
       "      <td>12571</td>\n",
       "      <td>12571</td>\n",
       "      <td>12571</td>\n",
       "      <td>12571</td>\n",
       "      <td>12571</td>\n",
       "      <td>12571</td>\n",
       "      <td>12571</td>\n",
       "    </tr>\n",
       "    <tr>\n",
       "      <td>walk</td>\n",
       "      <td>145433</td>\n",
       "      <td>145433</td>\n",
       "      <td>145433</td>\n",
       "      <td>145433</td>\n",
       "      <td>145433</td>\n",
       "      <td>145433</td>\n",
       "      <td>145433</td>\n",
       "      <td>145433</td>\n",
       "      <td>145433</td>\n",
       "      <td>145433</td>\n",
       "      <td>145433</td>\n",
       "      <td>145433</td>\n",
       "      <td>145433</td>\n",
       "      <td>145433</td>\n",
       "      <td>145433</td>\n",
       "    </tr>\n",
       "  </tbody>\n",
       "</table>\n",
       "</div>"
      ],
      "text/plain": [
       "           v0      v1      v2      a0      a1      a2  max(a)  min(a)  avg(a)  \\\n",
       "class                                                                           \n",
       "bike    79307   79307   79307   79307   79307   79307   79307   79307   79307   \n",
       "bus     30903   30903   30903   30903   30903   30903   30903   30903   30903   \n",
       "car    214843  214843  214843  214843  214843  214843  214843  214843  214843   \n",
       "train   12571   12571   12571   12571   12571   12571   12571   12571   12571   \n",
       "walk   145433  145433  145433  145433  145433  145433  145433  145433  145433   \n",
       "\n",
       "       var(a)  max(v)  min(v)  avg(v)  var(v)  brngChng  \n",
       "class                                                    \n",
       "bike    79307   79307   79307   79307   79307     79307  \n",
       "bus     30903   30903   30903   30903   30903     30903  \n",
       "car    214843  214843  214843  214843  214843    214843  \n",
       "train   12571   12571   12571   12571   12571     12571  \n",
       "walk   145433  145433  145433  145433  145433    145433  "
      ]
     },
     "execution_count": 53,
     "metadata": {},
     "output_type": "execute_result"
    }
   ],
   "source": [
    "data.groupby(by='class').count()"
   ]
  },
  {
   "cell_type": "code",
   "execution_count": 54,
   "metadata": {
    "ExecuteTime": {
     "end_time": "2019-09-10T09:45:50.314938Z",
     "start_time": "2019-09-10T09:45:50.243447Z"
    }
   },
   "outputs": [],
   "source": [
    "data['class'].unique()\n",
    "\n",
    "used_classes = ['car', 'walk', 'bike', 'train']\n",
    "\n",
    "data = data.drop(data[~data['class'].isin(used_classes)].index)"
   ]
  },
  {
   "cell_type": "code",
   "execution_count": 55,
   "metadata": {
    "ExecuteTime": {
     "end_time": "2019-09-10T09:45:51.851100Z",
     "start_time": "2019-09-10T09:45:51.831788Z"
    }
   },
   "outputs": [
    {
     "data": {
      "text/plain": [
       "array(['car', 'walk', 'bike', 'train'], dtype=object)"
      ]
     },
     "execution_count": 55,
     "metadata": {},
     "output_type": "execute_result"
    }
   ],
   "source": [
    "#data['class'][data['class'] != 'car'] = 'not-car'\n",
    "data['class'].unique()"
   ]
  },
  {
   "cell_type": "code",
   "execution_count": 56,
   "metadata": {
    "ExecuteTime": {
     "end_time": "2019-09-10T09:45:55.972494Z",
     "start_time": "2019-09-10T09:45:55.866842Z"
    }
   },
   "outputs": [],
   "source": [
    "X, y = data.iloc[:,:-1],data.iloc[:,-1]\n",
    "X_train, X_test, y_train, y_test = train_test_split(X, y, test_size=0.2, random_state=1337)"
   ]
  },
  {
   "cell_type": "code",
   "execution_count": 57,
   "metadata": {
    "ExecuteTime": {
     "end_time": "2019-09-10T09:46:38.384435Z",
     "start_time": "2019-09-10T09:45:56.200328Z"
    }
   },
   "outputs": [
    {
     "data": {
      "text/plain": [
       "XGBClassifier(base_score=0.5, booster='gbtree', colsample_bylevel=1,\n",
       "              colsample_bytree=1, gamma=0, learning_rate=0.5, max_delta_step=0,\n",
       "              max_depth=10, min_child_weight=1, missing=None, n_estimators=5,\n",
       "              n_jobs=1, nthread=None, objective='multi:softprob',\n",
       "              random_state=0, reg_alpha=0, reg_lambda=1, scale_pos_weight=1,\n",
       "              seed=None, silent=True, subsample=1)"
      ]
     },
     "execution_count": 57,
     "metadata": {},
     "output_type": "execute_result"
    }
   ],
   "source": [
    "xg_reg = xgb.XGBClassifier(objective ='multi:softprob', colsample_bytree = 1, learning_rate = 0.5,\n",
    "                max_depth = 10, n_estimators = 5)\n",
    "\n",
    "xg_reg.fit(X_train,y_train)"
   ]
  },
  {
   "cell_type": "code",
   "execution_count": 58,
   "metadata": {
    "ExecuteTime": {
     "end_time": "2019-09-10T09:46:41.245487Z",
     "start_time": "2019-09-10T09:46:38.387037Z"
    }
   },
   "outputs": [
    {
     "name": "stdout",
     "output_type": "stream",
     "text": [
      "              precision    recall  f1-score   support\n",
      "\n",
      "        bike       0.74      0.64      0.69     16010\n",
      "         car       0.87      0.73      0.79     42866\n",
      "       train       0.78      0.43      0.55      2432\n",
      "        walk       0.66      0.89      0.76     29123\n",
      "\n",
      "    accuracy                           0.76     90431\n",
      "   macro avg       0.76      0.67      0.70     90431\n",
      "weighted avg       0.78      0.76      0.76     90431\n",
      "\n",
      "0.7573730247370923\n",
      "[[31244  9282  2059   281]\n",
      " [ 1651 25946  1525     1]\n",
      " [ 1856  3882 10260    12]\n",
      " [ 1124   206    62  1040]]\n"
     ]
    }
   ],
   "source": [
    "from sklearn.metrics import classification_report\n",
    "preds = xg_reg.predict(X_test)\n",
    "print(classification_report(y_test,preds))\n",
    "print(accuracy_score(y_test,preds))\n",
    "print(confusion_matrix(y_test,preds, labels=['car', 'walk', 'bike', 'train']))"
   ]
  },
  {
   "cell_type": "code",
   "execution_count": 59,
   "metadata": {
    "ExecuteTime": {
     "end_time": "2019-09-10T09:46:41.476226Z",
     "start_time": "2019-09-10T09:46:41.248290Z"
    }
   },
   "outputs": [
    {
     "data": {
      "image/png": "[encoded data removed]",
      "text/plain": [
       "<Figure size 360x360 with 1 Axes>"
      ]
     },
     "metadata": {
      "needs_background": "light"
     },
     "output_type": "display_data"
    }
   ],
   "source": [
    "import matplotlib.pyplot as plt\n",
    "xgb.plot_importance(xg_reg)\n",
    "plt.rcParams['figure.figsize'] = [5, 5]\n",
    "plt.show()"
   ]
  },
  {
   "cell_type": "code",
   "execution_count": 60,
   "metadata": {
    "ExecuteTime": {
     "end_time": "2019-09-10T09:46:41.759763Z",
     "start_time": "2019-09-10T09:46:41.478490Z"
    }
   },
   "outputs": [],
   "source": [
    "preds = xg_reg.predict_proba(X_test)"
   ]
  },
  {
   "cell_type": "code",
   "execution_count": 61,
   "metadata": {
    "ExecuteTime": {
     "end_time": "2019-09-10T09:46:41.765278Z",
     "start_time": "2019-09-10T09:46:41.761471Z"
    }
   },
   "outputs": [
    {
     "name": "stdout",
     "output_type": "stream",
     "text": [
      "[[0.1455979  0.24601504 0.05839564 0.5499914 ]\n",
      " [0.5913462  0.30796996 0.0459571  0.05472669]\n",
      " [0.02274677 0.9269895  0.02753926 0.02272442]\n",
      " ...\n",
      " [0.02193244 0.90013826 0.05601842 0.02191089]\n",
      " [0.02299209 0.9273373  0.02670111 0.0229695 ]\n",
      " [0.09064145 0.56867695 0.04908528 0.29159632]]\n"
     ]
    }
   ],
   "source": [
    "print(preds)"
   ]
  },
  {
   "cell_type": "code",
   "execution_count": null,
   "metadata": {},
   "outputs": [],
   "source": []
  }
 ],
 "metadata": {
  "kernelspec": {
   "display_name": "Python 3",
   "language": "python",
   "name": "python3"
  },
  "language_info": {
   "codemirror_mode": {
    "name": "ipython",
    "version": 3
   },
   "file_extension": ".py",
   "mimetype": "text/x-python",
   "name": "python",
   "nbconvert_exporter": "python",
   "pygments_lexer": "ipython3",
   "version": "3.7.3"
  }
 },
 "nbformat": 4,
 "nbformat_minor": 2
}
