{
 "cells": [
  {
   "cell_type": "markdown",
   "metadata": {},
   "source": [
    "# Model training\n",
    "\n",
    "In the notebook, the created feature dataset is used to train a xgboost model."
   ]
  },
  {
   "cell_type": "code",
   "execution_count": 26,
   "metadata": {
    "ExecuteTime": {
     "end_time": "2019-09-30T17:17:25.966889Z",
     "start_time": "2019-09-30T17:17:25.962003Z"
    }
   },
   "outputs": [],
   "source": [
    "import pandas as pd\n",
    "import numpy as np\n",
    "import xgboost as xgb\n",
    "from xgboost.sklearn import XGBClassifier\n",
    "from sklearn.metrics import mean_squared_error, confusion_matrix, accuracy_score, classification_report\n",
    "from sklearn.model_selection import train_test_split\n",
    "\n",
    "pd.set_option('mode.chained_assignment', None)"
   ]
  },
  {
   "cell_type": "code",
   "execution_count": 27,
   "metadata": {
    "ExecuteTime": {
     "end_time": "2019-09-30T17:17:26.183453Z",
     "start_time": "2019-09-30T17:17:26.180411Z"
    }
   },
   "outputs": [],
   "source": [
    "# file of processed data\n",
    "data_file = 'processed_data.csv'"
   ]
  },
  {
   "cell_type": "code",
   "execution_count": 28,
   "metadata": {
    "ExecuteTime": {
     "end_time": "2019-09-30T17:17:36.311838Z",
     "start_time": "2019-09-30T17:17:27.030554Z"
    }
   },
   "outputs": [
    {
     "data": {
      "text/html": [
       "<div>\n",
       "<style scoped>\n",
       "    .dataframe tbody tr th:only-of-type {\n",
       "        vertical-align: middle;\n",
       "    }\n",
       "\n",
       "    .dataframe tbody tr th {\n",
       "        vertical-align: top;\n",
       "    }\n",
       "\n",
       "    .dataframe thead th {\n",
       "        text-align: right;\n",
       "    }\n",
       "</style>\n",
       "<table border=\"1\" class=\"dataframe\">\n",
       "  <thead>\n",
       "    <tr style=\"text-align: right;\">\n",
       "      <th></th>\n",
       "      <th>v0</th>\n",
       "      <th>v1</th>\n",
       "      <th>v2</th>\n",
       "      <th>a0</th>\n",
       "      <th>a1</th>\n",
       "      <th>a2</th>\n",
       "      <th>brCh0</th>\n",
       "      <th>brCh1</th>\n",
       "      <th>brCh2</th>\n",
       "      <th>max(a)</th>\n",
       "      <th>...</th>\n",
       "      <th>sum(v)</th>\n",
       "      <th>avg(v)</th>\n",
       "      <th>var(v)</th>\n",
       "      <th>max(brCh)</th>\n",
       "      <th>min(brCh)</th>\n",
       "      <th>range(brCh)</th>\n",
       "      <th>sum(brCh)</th>\n",
       "      <th>avg(brCh)</th>\n",
       "      <th>var(brCh)</th>\n",
       "      <th>class</th>\n",
       "    </tr>\n",
       "  </thead>\n",
       "  <tbody>\n",
       "    <tr>\n",
       "      <td>0</td>\n",
       "      <td>5.168146</td>\n",
       "      <td>3.650481</td>\n",
       "      <td>6.007676</td>\n",
       "      <td>-0.068985</td>\n",
       "      <td>0.235720</td>\n",
       "      <td>-0.257458</td>\n",
       "      <td>5.747349</td>\n",
       "      <td>3.033142</td>\n",
       "      <td>2.036242</td>\n",
       "      <td>0.235720</td>\n",
       "      <td>...</td>\n",
       "      <td>14.826303</td>\n",
       "      <td>4.942101</td>\n",
       "      <td>-5.565769</td>\n",
       "      <td>5.747349</td>\n",
       "      <td>2.036242</td>\n",
       "      <td>3.711107</td>\n",
       "      <td>10.816733</td>\n",
       "      <td>3.605578</td>\n",
       "      <td>-2.016361</td>\n",
       "      <td>car</td>\n",
       "    </tr>\n",
       "    <tr>\n",
       "      <td>1</td>\n",
       "      <td>3.650481</td>\n",
       "      <td>6.007676</td>\n",
       "      <td>1.630896</td>\n",
       "      <td>0.235720</td>\n",
       "      <td>-0.257458</td>\n",
       "      <td>0.233489</td>\n",
       "      <td>3.033142</td>\n",
       "      <td>2.036242</td>\n",
       "      <td>7.095249</td>\n",
       "      <td>0.235720</td>\n",
       "      <td>...</td>\n",
       "      <td>11.289053</td>\n",
       "      <td>3.763018</td>\n",
       "      <td>-2.492750</td>\n",
       "      <td>7.095249</td>\n",
       "      <td>2.036242</td>\n",
       "      <td>5.059007</td>\n",
       "      <td>12.164633</td>\n",
       "      <td>4.054878</td>\n",
       "      <td>-1.409317</td>\n",
       "      <td>car</td>\n",
       "    </tr>\n",
       "    <tr>\n",
       "      <td>2</td>\n",
       "      <td>0.804121</td>\n",
       "      <td>13.234774</td>\n",
       "      <td>5.842852</td>\n",
       "      <td>0.163561</td>\n",
       "      <td>-0.098559</td>\n",
       "      <td>-0.135605</td>\n",
       "      <td>13.107961</td>\n",
       "      <td>86.047772</td>\n",
       "      <td>61.764313</td>\n",
       "      <td>0.163561</td>\n",
       "      <td>...</td>\n",
       "      <td>19.881748</td>\n",
       "      <td>6.627249</td>\n",
       "      <td>13.163541</td>\n",
       "      <td>86.047772</td>\n",
       "      <td>13.107961</td>\n",
       "      <td>72.939812</td>\n",
       "      <td>160.920045</td>\n",
       "      <td>53.640015</td>\n",
       "      <td>-40.792249</td>\n",
       "      <td>car</td>\n",
       "    </tr>\n",
       "    <tr>\n",
       "      <td>3</td>\n",
       "      <td>13.234774</td>\n",
       "      <td>5.842852</td>\n",
       "      <td>2.181507</td>\n",
       "      <td>-0.098559</td>\n",
       "      <td>-0.135605</td>\n",
       "      <td>0.053815</td>\n",
       "      <td>86.047772</td>\n",
       "      <td>61.764313</td>\n",
       "      <td>18.378587</td>\n",
       "      <td>0.053815</td>\n",
       "      <td>...</td>\n",
       "      <td>21.259133</td>\n",
       "      <td>7.086378</td>\n",
       "      <td>-2.895371</td>\n",
       "      <td>86.047772</td>\n",
       "      <td>18.378587</td>\n",
       "      <td>67.669185</td>\n",
       "      <td>166.190672</td>\n",
       "      <td>55.396891</td>\n",
       "      <td>-690.138768</td>\n",
       "      <td>car</td>\n",
       "    </tr>\n",
       "    <tr>\n",
       "      <td>4</td>\n",
       "      <td>5.842852</td>\n",
       "      <td>2.181507</td>\n",
       "      <td>3.150172</td>\n",
       "      <td>-0.135605</td>\n",
       "      <td>0.053815</td>\n",
       "      <td>-0.263767</td>\n",
       "      <td>61.764313</td>\n",
       "      <td>18.378587</td>\n",
       "      <td>3.993537</td>\n",
       "      <td>0.053815</td>\n",
       "      <td>...</td>\n",
       "      <td>11.174531</td>\n",
       "      <td>3.724844</td>\n",
       "      <td>-1.285480</td>\n",
       "      <td>61.764313</td>\n",
       "      <td>3.993537</td>\n",
       "      <td>57.770776</td>\n",
       "      <td>84.136436</td>\n",
       "      <td>28.045479</td>\n",
       "      <td>149.284403</td>\n",
       "      <td>car</td>\n",
       "    </tr>\n",
       "    <tr>\n",
       "      <td>...</td>\n",
       "      <td>...</td>\n",
       "      <td>...</td>\n",
       "      <td>...</td>\n",
       "      <td>...</td>\n",
       "      <td>...</td>\n",
       "      <td>...</td>\n",
       "      <td>...</td>\n",
       "      <td>...</td>\n",
       "      <td>...</td>\n",
       "      <td>...</td>\n",
       "      <td>...</td>\n",
       "      <td>...</td>\n",
       "      <td>...</td>\n",
       "      <td>...</td>\n",
       "      <td>...</td>\n",
       "      <td>...</td>\n",
       "      <td>...</td>\n",
       "      <td>...</td>\n",
       "      <td>...</td>\n",
       "      <td>...</td>\n",
       "      <td>...</td>\n",
       "    </tr>\n",
       "    <tr>\n",
       "      <td>1654774</td>\n",
       "      <td>1.971871</td>\n",
       "      <td>1.711805</td>\n",
       "      <td>1.735315</td>\n",
       "      <td>-0.130033</td>\n",
       "      <td>0.011755</td>\n",
       "      <td>-0.268790</td>\n",
       "      <td>0.884603</td>\n",
       "      <td>2.193596</td>\n",
       "      <td>0.587693</td>\n",
       "      <td>0.011755</td>\n",
       "      <td>...</td>\n",
       "      <td>5.418991</td>\n",
       "      <td>1.806330</td>\n",
       "      <td>-0.497059</td>\n",
       "      <td>2.193596</td>\n",
       "      <td>0.587693</td>\n",
       "      <td>1.605903</td>\n",
       "      <td>3.665892</td>\n",
       "      <td>1.221964</td>\n",
       "      <td>0.050793</td>\n",
       "      <td>walk</td>\n",
       "    </tr>\n",
       "    <tr>\n",
       "      <td>1654775</td>\n",
       "      <td>1.711805</td>\n",
       "      <td>1.735315</td>\n",
       "      <td>1.197736</td>\n",
       "      <td>0.011755</td>\n",
       "      <td>-0.268790</td>\n",
       "      <td>0.129213</td>\n",
       "      <td>2.193596</td>\n",
       "      <td>0.587693</td>\n",
       "      <td>24.300357</td>\n",
       "      <td>0.129213</td>\n",
       "      <td>...</td>\n",
       "      <td>4.644856</td>\n",
       "      <td>1.548285</td>\n",
       "      <td>-0.379244</td>\n",
       "      <td>24.300357</td>\n",
       "      <td>0.587693</td>\n",
       "      <td>23.712664</td>\n",
       "      <td>27.081647</td>\n",
       "      <td>9.027216</td>\n",
       "      <td>20.244541</td>\n",
       "      <td>walk</td>\n",
       "    </tr>\n",
       "    <tr>\n",
       "      <td>1654776</td>\n",
       "      <td>1.897607</td>\n",
       "      <td>0.822229</td>\n",
       "      <td>0.727151</td>\n",
       "      <td>-0.537689</td>\n",
       "      <td>-0.047539</td>\n",
       "      <td>-0.129246</td>\n",
       "      <td>5.575816</td>\n",
       "      <td>21.620370</td>\n",
       "      <td>49.870767</td>\n",
       "      <td>-0.047539</td>\n",
       "      <td>...</td>\n",
       "      <td>3.446987</td>\n",
       "      <td>1.148996</td>\n",
       "      <td>0.024718</td>\n",
       "      <td>49.870767</td>\n",
       "      <td>5.575816</td>\n",
       "      <td>44.294951</td>\n",
       "      <td>77.066953</td>\n",
       "      <td>25.688984</td>\n",
       "      <td>-62.986663</td>\n",
       "      <td>walk</td>\n",
       "    </tr>\n",
       "    <tr>\n",
       "      <td>1654777</td>\n",
       "      <td>0.822229</td>\n",
       "      <td>0.727151</td>\n",
       "      <td>0.468659</td>\n",
       "      <td>-0.047539</td>\n",
       "      <td>-0.129246</td>\n",
       "      <td>-0.114179</td>\n",
       "      <td>21.620370</td>\n",
       "      <td>49.870767</td>\n",
       "      <td>27.563477</td>\n",
       "      <td>-0.047539</td>\n",
       "      <td>...</td>\n",
       "      <td>2.018040</td>\n",
       "      <td>0.672680</td>\n",
       "      <td>0.013831</td>\n",
       "      <td>49.870767</td>\n",
       "      <td>21.620370</td>\n",
       "      <td>28.250396</td>\n",
       "      <td>99.054614</td>\n",
       "      <td>33.018205</td>\n",
       "      <td>-216.239628</td>\n",
       "      <td>walk</td>\n",
       "    </tr>\n",
       "    <tr>\n",
       "      <td>1654778</td>\n",
       "      <td>0.727151</td>\n",
       "      <td>0.468659</td>\n",
       "      <td>0.240301</td>\n",
       "      <td>-0.129246</td>\n",
       "      <td>-0.114179</td>\n",
       "      <td>0.125007</td>\n",
       "      <td>49.870767</td>\n",
       "      <td>27.563477</td>\n",
       "      <td>80.099854</td>\n",
       "      <td>0.125007</td>\n",
       "      <td>...</td>\n",
       "      <td>1.436112</td>\n",
       "      <td>0.478704</td>\n",
       "      <td>0.024324</td>\n",
       "      <td>80.099854</td>\n",
       "      <td>27.563477</td>\n",
       "      <td>52.536378</td>\n",
       "      <td>157.534097</td>\n",
       "      <td>52.511366</td>\n",
       "      <td>-682.657916</td>\n",
       "      <td>walk</td>\n",
       "    </tr>\n",
       "  </tbody>\n",
       "</table>\n",
       "<p>1654779 rows × 28 columns</p>\n",
       "</div>"
      ],
      "text/plain": [
       "                v0         v1        v2        a0        a1        a2  \\\n",
       "0         5.168146   3.650481  6.007676 -0.068985  0.235720 -0.257458   \n",
       "1         3.650481   6.007676  1.630896  0.235720 -0.257458  0.233489   \n",
       "2         0.804121  13.234774  5.842852  0.163561 -0.098559 -0.135605   \n",
       "3        13.234774   5.842852  2.181507 -0.098559 -0.135605  0.053815   \n",
       "4         5.842852   2.181507  3.150172 -0.135605  0.053815 -0.263767   \n",
       "...            ...        ...       ...       ...       ...       ...   \n",
       "1654774   1.971871   1.711805  1.735315 -0.130033  0.011755 -0.268790   \n",
       "1654775   1.711805   1.735315  1.197736  0.011755 -0.268790  0.129213   \n",
       "1654776   1.897607   0.822229  0.727151 -0.537689 -0.047539 -0.129246   \n",
       "1654777   0.822229   0.727151  0.468659 -0.047539 -0.129246 -0.114179   \n",
       "1654778   0.727151   0.468659  0.240301 -0.129246 -0.114179  0.125007   \n",
       "\n",
       "             brCh0      brCh1      brCh2    max(a)  ...     sum(v)    avg(v)  \\\n",
       "0         5.747349   3.033142   2.036242  0.235720  ...  14.826303  4.942101   \n",
       "1         3.033142   2.036242   7.095249  0.235720  ...  11.289053  3.763018   \n",
       "2        13.107961  86.047772  61.764313  0.163561  ...  19.881748  6.627249   \n",
       "3        86.047772  61.764313  18.378587  0.053815  ...  21.259133  7.086378   \n",
       "4        61.764313  18.378587   3.993537  0.053815  ...  11.174531  3.724844   \n",
       "...            ...        ...        ...       ...  ...        ...       ...   \n",
       "1654774   0.884603   2.193596   0.587693  0.011755  ...   5.418991  1.806330   \n",
       "1654775   2.193596   0.587693  24.300357  0.129213  ...   4.644856  1.548285   \n",
       "1654776   5.575816  21.620370  49.870767 -0.047539  ...   3.446987  1.148996   \n",
       "1654777  21.620370  49.870767  27.563477 -0.047539  ...   2.018040  0.672680   \n",
       "1654778  49.870767  27.563477  80.099854  0.125007  ...   1.436112  0.478704   \n",
       "\n",
       "            var(v)  max(brCh)  min(brCh)  range(brCh)   sum(brCh)  avg(brCh)  \\\n",
       "0        -5.565769   5.747349   2.036242     3.711107   10.816733   3.605578   \n",
       "1        -2.492750   7.095249   2.036242     5.059007   12.164633   4.054878   \n",
       "2        13.163541  86.047772  13.107961    72.939812  160.920045  53.640015   \n",
       "3        -2.895371  86.047772  18.378587    67.669185  166.190672  55.396891   \n",
       "4        -1.285480  61.764313   3.993537    57.770776   84.136436  28.045479   \n",
       "...            ...        ...        ...          ...         ...        ...   \n",
       "1654774  -0.497059   2.193596   0.587693     1.605903    3.665892   1.221964   \n",
       "1654775  -0.379244  24.300357   0.587693    23.712664   27.081647   9.027216   \n",
       "1654776   0.024718  49.870767   5.575816    44.294951   77.066953  25.688984   \n",
       "1654777   0.013831  49.870767  21.620370    28.250396   99.054614  33.018205   \n",
       "1654778   0.024324  80.099854  27.563477    52.536378  157.534097  52.511366   \n",
       "\n",
       "          var(brCh)  class  \n",
       "0         -2.016361    car  \n",
       "1         -1.409317    car  \n",
       "2        -40.792249    car  \n",
       "3       -690.138768    car  \n",
       "4        149.284403    car  \n",
       "...             ...    ...  \n",
       "1654774    0.050793   walk  \n",
       "1654775   20.244541   walk  \n",
       "1654776  -62.986663   walk  \n",
       "1654777 -216.239628   walk  \n",
       "1654778 -682.657916   walk  \n",
       "\n",
       "[1654779 rows x 28 columns]"
      ]
     },
     "execution_count": 28,
     "metadata": {},
     "output_type": "execute_result"
    }
   ],
   "source": [
    "data = pd.read_csv(data_file, usecols=[4,5,6,7,8,9,10,11,12,13,14,15,16,17,18,19,20,21,22,23,24,25,26,27,28,29,30,31])\n",
    "data"
   ]
  },
  {
   "cell_type": "code",
   "execution_count": 29,
   "metadata": {
    "ExecuteTime": {
     "end_time": "2019-09-30T17:17:37.451312Z",
     "start_time": "2019-09-30T17:17:36.313549Z"
    }
   },
   "outputs": [],
   "source": [
    "# Create training and test sets\n",
    "X, y = data.iloc[:,:-1],data.iloc[:,-1]\n",
    "X_train, X_test, y_train, y_test = train_test_split(X, y, test_size=0.2, random_state=1337)"
   ]
  },
  {
   "cell_type": "code",
   "execution_count": 30,
   "metadata": {
    "ExecuteTime": {
     "end_time": "2019-09-30T17:29:55.824676Z",
     "start_time": "2019-09-30T17:17:43.920603Z"
    }
   },
   "outputs": [
    {
     "name": "stdout",
     "output_type": "stream",
     "text": [
      "Fitting 3 folds for each of 1 candidates, totalling 3 fits\n"
     ]
    },
    {
     "name": "stderr",
     "output_type": "stream",
     "text": [
      "[Parallel(n_jobs=-1)]: Using backend LokyBackend with 8 concurrent workers.\n",
      "[Parallel(n_jobs=-1)]: Done   3 out of   3 | elapsed:  5.1min remaining:    0.0s\n",
      "[Parallel(n_jobs=-1)]: Done   3 out of   3 | elapsed:  5.1min finished\n"
     ]
    },
    {
     "name": "stdout",
     "output_type": "stream",
     "text": [
      "Best parameters found:\n",
      " {'learning_rate': 0.2, 'max_depth': 10, 'min_child_weight': 8, 'n_estimators': 30, 'objective': 'binary:logistic', 'subsample': 0.4}\n"
     ]
    }
   ],
   "source": [
    "# Train XGBoost Classifier, used Gridsearch to find best parameters\n",
    "xgb = XGBClassifier()\n",
    "\n",
    "parameter_space = {\n",
    "    'objective': ['binary:logistic'],\n",
    "    'learning_rate': [0.2],\n",
    "    'max_depth': [10],\n",
    "    'min_child_weight': [8],\n",
    "    'subsample': [0.4],\n",
    "    'n_estimators': [30]\n",
    "}\n",
    "\n",
    "from sklearn.model_selection import GridSearchCV\n",
    "\n",
    "clf = GridSearchCV(xgb, parameter_space, n_jobs=-1, cv=3, verbose=10)\n",
    "clf.fit(X_train, y_train)\n",
    "\n",
    "print('Best parameters found:\\n', clf.best_params_)"
   ]
  },
  {
   "cell_type": "code",
   "execution_count": 31,
   "metadata": {
    "ExecuteTime": {
     "end_time": "2019-09-30T17:34:33.991544Z",
     "start_time": "2019-09-30T17:34:17.073756Z"
    }
   },
   "outputs": [
    {
     "name": "stdout",
     "output_type": "stream",
     "text": [
      "              precision    recall  f1-score   support\n",
      "\n",
      "         car       0.95      0.78      0.86    121972\n",
      "        walk       0.89      0.97      0.93    208984\n",
      "\n",
      "    accuracy                           0.90    330956\n",
      "   macro avg       0.92      0.88      0.89    330956\n",
      "weighted avg       0.91      0.90      0.90    330956\n",
      "\n",
      "0.9048634863848971\n",
      "[[ 95712  26260]\n",
      " [  5226 203758]]\n"
     ]
    }
   ],
   "source": [
    "# Evaluate model\n",
    "preds = clf.predict(X_test)\n",
    "\n",
    "print(classification_report(y_test,preds))\n",
    "print(accuracy_score(y_test,preds))\n",
    "print(confusion_matrix(y_test,preds, labels=['car', 'walk']))"
   ]
  },
  {
   "cell_type": "code",
   "execution_count": 35,
   "metadata": {
    "ExecuteTime": {
     "end_time": "2019-10-01T07:41:09.027145Z",
     "start_time": "2019-10-01T07:41:08.634153Z"
    }
   },
   "outputs": [
    {
     "data": {
      "text/plain": [
       "<matplotlib.axes._subplots.AxesSubplot at 0x1a23b834a8>"
      ]
     },
     "execution_count": 35,
     "metadata": {},
     "output_type": "execute_result"
    },
    {
     "data": {
      "image/png": "[encoded data removed]",
      "text/plain": [
       "<Figure size 432x288 with 1 Axes>"
      ]
     },
     "metadata": {
      "needs_background": "light"
     },
     "output_type": "display_data"
    }
   ],
   "source": [
    "# Plot feature importance (F Score) \n",
    "from xgboost import plot_importance\n",
    "from matplotlib import pyplot\n",
    "plot_importance(clf.best_estimator_)"
   ]
  },
  {
   "cell_type": "code",
   "execution_count": 37,
   "metadata": {
    "ExecuteTime": {
     "end_time": "2019-10-01T07:42:13.394637Z",
     "start_time": "2019-10-01T07:42:12.707190Z"
    }
   },
   "outputs": [],
   "source": [
    "# Export model to CoreML file format\n",
    "import coremltools\n",
    "coreml = coremltools.converters.xgboost.convert(clf.best_estimator_, \n",
    "                                                list(data.iloc[:,:-1].columns.values), \n",
    "                                                mode=\"classifier\")\n",
    "coreml.save('trans_mode.mlmodel')"
   ]
  },
  {
   "cell_type": "code",
   "execution_count": 39,
   "metadata": {
    "ExecuteTime": {
     "end_time": "2019-10-01T07:46:18.309196Z",
     "start_time": "2019-10-01T07:46:18.301762Z"
    }
   },
   "outputs": [
    {
     "data": {
      "text/plain": [
       "['trans_mode.txt']"
      ]
     },
     "execution_count": 39,
     "metadata": {},
     "output_type": "execute_result"
    }
   ],
   "source": [
    "# Save model for later use\n",
    "import joblib\n",
    "joblib.dump(clf.best_estimator_, \"trans_mode.txt\") "
   ]
  },
  {
   "cell_type": "code",
   "execution_count": null,
   "metadata": {},
   "outputs": [],
   "source": []
  }
 ],
 "metadata": {
  "kernelspec": {
   "display_name": "Python 3",
   "language": "python",
   "name": "python3"
  },
  "language_info": {
   "codemirror_mode": {
    "name": "ipython",
    "version": 3
   },
   "file_extension": ".py",
   "mimetype": "text/x-python",
   "name": "python",
   "nbconvert_exporter": "python",
   "pygments_lexer": "ipython3",
   "version": "3.7.3"
  }
 },
 "nbformat": 4,
 "nbformat_minor": 2
}
