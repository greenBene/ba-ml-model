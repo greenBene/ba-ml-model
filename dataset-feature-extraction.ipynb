{
 "cells": [
  {
   "cell_type": "markdown",
   "metadata": {},
   "source": [
    "# Dataset - Feature Extraction\n",
    "\n",
    "In this notebook, the dataset used to train the machine learning model is created"
   ]
  },
  {
   "cell_type": "code",
   "execution_count": 11,
   "metadata": {
    "ExecuteTime": {
     "end_time": "2019-08-31T15:29:56.545410Z",
     "start_time": "2019-08-31T15:29:56.541916Z"
    }
   },
   "outputs": [],
   "source": [
    "import pandas as pd\n",
    "import numpy as np\n",
    "import datetime as dt\n",
    "import os\n",
    "import time\n",
    "\n",
    "pd.set_option('mode.chained_assignment', None)"
   ]
  },
  {
   "cell_type": "code",
   "execution_count": 12,
   "metadata": {
    "ExecuteTime": {
     "end_time": "2019-08-31T15:29:56.896146Z",
     "start_time": "2019-08-31T15:29:56.893113Z"
    }
   },
   "outputs": [],
   "source": [
    "# Constants\n",
    "data_dir = 'geolife-data/Prepared'\n",
    "output_file = 'processed_data.csv'\n",
    "files_to_read = 10\n",
    "earth_radius = 6367"
   ]
  },
  {
   "cell_type": "markdown",
   "metadata": {},
   "source": [
    "## Load files"
   ]
  },
  {
   "cell_type": "code",
   "execution_count": 13,
   "metadata": {
    "ExecuteTime": {
     "end_time": "2019-08-31T15:30:00.759849Z",
     "start_time": "2019-08-31T15:29:57.473546Z"
    }
   },
   "outputs": [],
   "source": [
    "filelist = os.listdir(data_dir)\n",
    "files_to_read = (len(filelist) if files_to_read>len(filelist) else files_to_read)\n",
    "\n",
    "data_raw = pd.DataFrame()\n",
    "for file in filelist[:files_to_read]:\n",
    "    if os.path.isdir(data_dir + \"/\" + file):\n",
    "        continue\n",
    "    data_raw_temp = traj_df = pd.read_csv(data_dir + \"/\" + file)\n",
    "    data_raw = pd.concat([data_raw, data_raw_temp])\n"
   ]
  },
  {
   "cell_type": "markdown",
   "metadata": {},
   "source": [
    "## Prepare Data"
   ]
  },
  {
   "cell_type": "code",
   "execution_count": 14,
   "metadata": {
    "ExecuteTime": {
     "end_time": "2019-08-31T15:30:01.498639Z",
     "start_time": "2019-08-31T15:30:00.761575Z"
    }
   },
   "outputs": [],
   "source": [
    "data_raw = data_raw.rename(columns={\"height\": \"altitude\"})\\\n",
    "    .drop(columns = ['days_total', 'date', 'time'])\\\n",
    "    .dropna()"
   ]
  },
  {
   "cell_type": "code",
   "execution_count": 15,
   "metadata": {
    "ExecuteTime": {
     "end_time": "2019-08-31T15:30:02.334395Z",
     "start_time": "2019-08-31T15:30:02.149326Z"
    }
   },
   "outputs": [],
   "source": [
    "data_raw['record_dt'] = data_raw['record_dt'].astype(\"datetime64\")"
   ]
  },
  {
   "cell_type": "code",
   "execution_count": 16,
   "metadata": {
    "ExecuteTime": {
     "end_time": "2019-08-31T15:30:02.412210Z",
     "start_time": "2019-08-31T15:30:02.407578Z"
    }
   },
   "outputs": [],
   "source": [
    "def haversine(lat1, lon1, lat2, lon2, earth_radius=6371):\n",
    "    \n",
    "    lat1, lon1, lat2, lon2 = map(np.radians, [lat1, lon1, lat2, lon2])\n",
    "    \n",
    "    a = np.sin(np.abs(lat2-lat1)/2.0)**2 + \\\n",
    "        np.cos(lat1) * np.cos(lat2) * np.sin(np.abs(lon2-lon1)/2.0)**2\n",
    "    c = np.arctan2(np.sqrt(a), np.sqrt(1-a))\n",
    "    \n",
    "    return earth_radius * 2 * c"
   ]
  },
  {
   "cell_type": "markdown",
   "metadata": {},
   "source": [
    "## Process data"
   ]
  },
  {
   "cell_type": "code",
   "execution_count": 17,
   "metadata": {
    "ExecuteTime": {
     "end_time": "2019-08-31T15:30:04.401460Z",
     "start_time": "2019-08-31T15:30:04.393318Z"
    }
   },
   "outputs": [],
   "source": [
    "users = data_raw['user'].unique()"
   ]
  },
  {
   "cell_type": "code",
   "execution_count": 21,
   "metadata": {
    "ExecuteTime": {
     "end_time": "2019-08-31T15:35:25.451055Z",
     "start_time": "2019-08-31T15:33:31.961265Z"
    }
   },
   "outputs": [
    {
     "name": "stdout",
     "output_type": "stream",
     "text": [
      "User: 106\n",
      "User: 138\n",
      "User: 163\n",
      "User: 82\n",
      "User: 64\n",
      "User: 20\n",
      "User: 89\n",
      "User: 112\n",
      "User: 96\n",
      "User: 128\n"
     ]
    }
   ],
   "source": [
    "data = pd.DataFrame()\n",
    "for user in users[:files_to_read]:\n",
    "    print(\"User: \" + str(user))\n",
    "    data_user = data_raw[data_raw.user == user]\n",
    "    trips = data_user['trans_trip'].unique()\n",
    "    for trip in trips[:]:\n",
    "        \n",
    "        # data_traj consist of all trajectories of one singel trip\n",
    "        \n",
    "        data_traj = data_user[data_user.trans_trip == trip]\n",
    "        data_traj = data_traj.sort_values(by=['record_dt'])\n",
    "        \n",
    "        # Distance to next entry in meters\n",
    "        data_traj['dist'] = haversine(data_traj.latitude, data_traj.longitude, data_traj.latitude.shift(-1), data_traj.longitude.shift(-1)) * 1000\n",
    "        \n",
    "        # Time difference to next entry in seconds\n",
    "        data_traj['time_delta'] = (data_traj.record_dt.shift(-1) - data_traj.record_dt).astype(\"int64\") / (1000000000.0)\n",
    "        \n",
    "        # Velocity until next entry in m/s\n",
    "        data_traj['velocity'] = data_traj['dist'] / (data_traj['time_delta'])\n",
    "        \n",
    "        # Acceleration in m/(sˆ2)\n",
    "        data_traj['acceleration'] = (data_traj['velocity'].shift(-1) - data_traj['velocity']) / (data_traj['time_delta'])\n",
    "        \n",
    "        \n",
    "        # Features \n",
    "        \n",
    "        temp =  pd.DataFrame()\n",
    "\n",
    "        for i in range(3):\n",
    "            temp['v' + str(i)] = data_traj.velocity.shift(-i)\n",
    "\n",
    "        for i in range(3):\n",
    "            temp['a' + str(i)] = data_traj.acceleration.shift(-i)\n",
    "\n",
    "        \n",
    "        \n",
    "        \n",
    "        temp['max(a)'] = temp[['a0', 'a1', 'a2']].values.max(1)\n",
    "        temp['min(a)'] = temp[['a0', 'a1', 'a2']].values.min(1)\n",
    "        temp['avg(a)'] = (temp.a0 + temp.a1 + temp.a2) / 3\n",
    "        temp['var(a)'] =   ((temp.a0 - temp['avg(a)'])**2\\\n",
    "                         + (temp.a1 - temp['avg(a)'])**2\\\n",
    "                         + (temp.a2 - temp['avg(a)']**2))/3\n",
    "        \n",
    "\n",
    "        \n",
    "        temp['max(v)'] = temp[['v0', 'v1', 'v2']].values.max(1)\n",
    "        temp['min(v)'] = temp[['v0', 'v1', 'v2']].values.min(1)\n",
    "        temp['avg(v)'] = (temp.v0 + temp.v1 + temp.v2) / 3\n",
    "        temp['var(v)'] =   ((temp.v0 - temp['avg(v)'])**2\\\n",
    "                 + (temp.v1 - temp['avg(v)'])**2\\\n",
    "                 + (temp.v2 - temp['avg(v)']**2))/3\n",
    "        \n",
    "\n",
    "\n",
    "        temp['class'] = data_traj['trans_mode']\n",
    "        temp = temp.dropna()\n",
    "        \n",
    "        data = pd.concat([data,temp])\n",
    " "
   ]
  },
  {
   "cell_type": "markdown",
   "metadata": {},
   "source": [
    "## Preprocessing"
   ]
  },
  {
   "cell_type": "code",
   "execution_count": 42,
   "metadata": {
    "ExecuteTime": {
     "end_time": "2019-08-31T15:48:02.450739Z",
     "start_time": "2019-08-31T15:48:02.447991Z"
    }
   },
   "outputs": [],
   "source": [
    "final = data"
   ]
  },
  {
   "cell_type": "code",
   "execution_count": 43,
   "metadata": {
    "ExecuteTime": {
     "end_time": "2019-08-31T15:48:02.833569Z",
     "start_time": "2019-08-31T15:48:02.829632Z"
    }
   },
   "outputs": [
    {
     "data": {
      "text/plain": [
       "925247"
      ]
     },
     "execution_count": 43,
     "metadata": {},
     "output_type": "execute_result"
    }
   ],
   "source": [
    "len(final)"
   ]
  },
  {
   "cell_type": "code",
   "execution_count": 44,
   "metadata": {
    "ExecuteTime": {
     "end_time": "2019-08-31T15:48:18.485218Z",
     "start_time": "2019-08-31T15:48:17.981112Z"
    }
   },
   "outputs": [],
   "source": [
    "# taxi -> car\n",
    "final['class'][final['class'] == 'taxi'] = 'car'\n",
    "\n",
    "used_classes = ['car', 'walk', 'bike', 'bus', 'train']\n",
    "\n",
    "final = final.drop(final[~final['class'].isin(used_classes)].index)"
   ]
  },
  {
   "cell_type": "code",
   "execution_count": 45,
   "metadata": {
    "ExecuteTime": {
     "end_time": "2019-08-31T15:48:19.273316Z",
     "start_time": "2019-08-31T15:48:18.486757Z"
    }
   },
   "outputs": [],
   "source": [
    "final = final.drop(final[(final['class'] == 'walk') & ((final['max(v)'] > 7) | (final['max(a)'] >= 3))].index)\n",
    "final = final.drop(final[(final['class'] == 'bike') & ((final['max(v)'] > 12) | (final['max(a)'] >= 3))].index)\n",
    "final = final.drop(final[(final['class'] == 'bus') & ((final['max(v)'] > 34) | (final['max(a)'] >= 2))].index)\n",
    "final = final.drop(final[(final['class'] == 'car') & ((final['max(v)'] > 50) | (final['max(a)'] >= 10))].index)\n",
    "final = final.drop(final[(final['class'] == 'train') & ((final['max(v)'] > 34) | (final['max(a)'] >= 3))].index)"
   ]
  },
  {
   "cell_type": "code",
   "execution_count": 46,
   "metadata": {
    "ExecuteTime": {
     "end_time": "2019-08-31T15:48:19.277979Z",
     "start_time": "2019-08-31T15:48:19.275048Z"
    }
   },
   "outputs": [
    {
     "name": "stdout",
     "output_type": "stream",
     "text": [
      "483057\n"
     ]
    }
   ],
   "source": [
    "print(len(final))"
   ]
  },
  {
   "cell_type": "code",
   "execution_count": 47,
   "metadata": {
    "ExecuteTime": {
     "end_time": "2019-08-31T15:48:30.428134Z",
     "start_time": "2019-08-31T15:48:20.718846Z"
    }
   },
   "outputs": [],
   "source": [
    "final.to_csv(output_file)"
   ]
  },
  {
   "cell_type": "code",
   "execution_count": 48,
   "metadata": {
    "ExecuteTime": {
     "end_time": "2019-08-31T15:48:30.496826Z",
     "start_time": "2019-08-31T15:48:30.429822Z"
    }
   },
   "outputs": [
    {
     "data": {
      "text/html": [
       "<div>\n",
       "<style scoped>\n",
       "    .dataframe tbody tr th:only-of-type {\n",
       "        vertical-align: middle;\n",
       "    }\n",
       "\n",
       "    .dataframe tbody tr th {\n",
       "        vertical-align: top;\n",
       "    }\n",
       "\n",
       "    .dataframe thead th {\n",
       "        text-align: right;\n",
       "    }\n",
       "</style>\n",
       "<table border=\"1\" class=\"dataframe\">\n",
       "  <thead>\n",
       "    <tr style=\"text-align: right;\">\n",
       "      <th></th>\n",
       "      <th>v0</th>\n",
       "      <th>v1</th>\n",
       "      <th>v2</th>\n",
       "      <th>a0</th>\n",
       "      <th>a1</th>\n",
       "      <th>a2</th>\n",
       "      <th>max(a)</th>\n",
       "      <th>min(a)</th>\n",
       "      <th>avg(a)</th>\n",
       "      <th>var(a)</th>\n",
       "      <th>max(v)</th>\n",
       "      <th>min(v)</th>\n",
       "      <th>avg(v)</th>\n",
       "      <th>var(v)</th>\n",
       "    </tr>\n",
       "    <tr>\n",
       "      <th>class</th>\n",
       "      <th></th>\n",
       "      <th></th>\n",
       "      <th></th>\n",
       "      <th></th>\n",
       "      <th></th>\n",
       "      <th></th>\n",
       "      <th></th>\n",
       "      <th></th>\n",
       "      <th></th>\n",
       "      <th></th>\n",
       "      <th></th>\n",
       "      <th></th>\n",
       "      <th></th>\n",
       "      <th></th>\n",
       "    </tr>\n",
       "  </thead>\n",
       "  <tbody>\n",
       "    <tr>\n",
       "      <td>bike</td>\n",
       "      <td>79307</td>\n",
       "      <td>79307</td>\n",
       "      <td>79307</td>\n",
       "      <td>79307</td>\n",
       "      <td>79307</td>\n",
       "      <td>79307</td>\n",
       "      <td>79307</td>\n",
       "      <td>79307</td>\n",
       "      <td>79307</td>\n",
       "      <td>79307</td>\n",
       "      <td>79307</td>\n",
       "      <td>79307</td>\n",
       "      <td>79307</td>\n",
       "      <td>79307</td>\n",
       "    </tr>\n",
       "    <tr>\n",
       "      <td>bus</td>\n",
       "      <td>30903</td>\n",
       "      <td>30903</td>\n",
       "      <td>30903</td>\n",
       "      <td>30903</td>\n",
       "      <td>30903</td>\n",
       "      <td>30903</td>\n",
       "      <td>30903</td>\n",
       "      <td>30903</td>\n",
       "      <td>30903</td>\n",
       "      <td>30903</td>\n",
       "      <td>30903</td>\n",
       "      <td>30903</td>\n",
       "      <td>30903</td>\n",
       "      <td>30903</td>\n",
       "    </tr>\n",
       "    <tr>\n",
       "      <td>car</td>\n",
       "      <td>214843</td>\n",
       "      <td>214843</td>\n",
       "      <td>214843</td>\n",
       "      <td>214843</td>\n",
       "      <td>214843</td>\n",
       "      <td>214843</td>\n",
       "      <td>214843</td>\n",
       "      <td>214843</td>\n",
       "      <td>214843</td>\n",
       "      <td>214843</td>\n",
       "      <td>214843</td>\n",
       "      <td>214843</td>\n",
       "      <td>214843</td>\n",
       "      <td>214843</td>\n",
       "    </tr>\n",
       "    <tr>\n",
       "      <td>train</td>\n",
       "      <td>12571</td>\n",
       "      <td>12571</td>\n",
       "      <td>12571</td>\n",
       "      <td>12571</td>\n",
       "      <td>12571</td>\n",
       "      <td>12571</td>\n",
       "      <td>12571</td>\n",
       "      <td>12571</td>\n",
       "      <td>12571</td>\n",
       "      <td>12571</td>\n",
       "      <td>12571</td>\n",
       "      <td>12571</td>\n",
       "      <td>12571</td>\n",
       "      <td>12571</td>\n",
       "    </tr>\n",
       "    <tr>\n",
       "      <td>walk</td>\n",
       "      <td>145433</td>\n",
       "      <td>145433</td>\n",
       "      <td>145433</td>\n",
       "      <td>145433</td>\n",
       "      <td>145433</td>\n",
       "      <td>145433</td>\n",
       "      <td>145433</td>\n",
       "      <td>145433</td>\n",
       "      <td>145433</td>\n",
       "      <td>145433</td>\n",
       "      <td>145433</td>\n",
       "      <td>145433</td>\n",
       "      <td>145433</td>\n",
       "      <td>145433</td>\n",
       "    </tr>\n",
       "  </tbody>\n",
       "</table>\n",
       "</div>"
      ],
      "text/plain": [
       "           v0      v1      v2      a0      a1      a2  max(a)  min(a)  avg(a)  \\\n",
       "class                                                                           \n",
       "bike    79307   79307   79307   79307   79307   79307   79307   79307   79307   \n",
       "bus     30903   30903   30903   30903   30903   30903   30903   30903   30903   \n",
       "car    214843  214843  214843  214843  214843  214843  214843  214843  214843   \n",
       "train   12571   12571   12571   12571   12571   12571   12571   12571   12571   \n",
       "walk   145433  145433  145433  145433  145433  145433  145433  145433  145433   \n",
       "\n",
       "       var(a)  max(v)  min(v)  avg(v)  var(v)  \n",
       "class                                          \n",
       "bike    79307   79307   79307   79307   79307  \n",
       "bus     30903   30903   30903   30903   30903  \n",
       "car    214843  214843  214843  214843  214843  \n",
       "train   12571   12571   12571   12571   12571  \n",
       "walk   145433  145433  145433  145433  145433  "
      ]
     },
     "execution_count": 48,
     "metadata": {},
     "output_type": "execute_result"
    }
   ],
   "source": [
    "final.groupby(by='class').count()"
   ]
  },
  {
   "cell_type": "code",
   "execution_count": null,
   "metadata": {},
   "outputs": [],
   "source": []
  }
 ],
 "metadata": {
  "kernelspec": {
   "display_name": "Python 3",
   "language": "python",
   "name": "python3"
  },
  "language_info": {
   "codemirror_mode": {
    "name": "ipython",
    "version": 3
   },
   "file_extension": ".py",
   "mimetype": "text/x-python",
   "name": "python",
   "nbconvert_exporter": "python",
   "pygments_lexer": "ipython3",
   "version": "3.7.3"
  }
 },
 "nbformat": 4,
 "nbformat_minor": 2
}
