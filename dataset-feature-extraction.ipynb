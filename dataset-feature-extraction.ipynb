{
 "cells": [
  {
   "cell_type": "markdown",
   "metadata": {},
   "source": [
    "# Dataset - Feature Extraction\n",
    "\n",
    "In this notebook, the dataset used to train the machine learning model is created"
   ]
  },
  {
   "cell_type": "code",
   "execution_count": 1,
   "metadata": {
    "ExecuteTime": {
     "end_time": "2019-09-10T09:12:38.743296Z",
     "start_time": "2019-09-10T09:12:38.331470Z"
    }
   },
   "outputs": [],
   "source": [
    "import pandas as pd\n",
    "import numpy as np\n",
    "import datetime as dt\n",
    "import os\n",
    "import time\n",
    "\n",
    "pd.set_option('mode.chained_assignment', None)"
   ]
  },
  {
   "cell_type": "code",
   "execution_count": 2,
   "metadata": {
    "ExecuteTime": {
     "end_time": "2019-09-10T09:12:38.748103Z",
     "start_time": "2019-09-10T09:12:38.745380Z"
    }
   },
   "outputs": [],
   "source": [
    "# Constants\n",
    "data_dir = 'geolife-data/Prepared'\n",
    "output_file = 'processed_data_2.csv'\n",
    "files_to_read = 10\n",
    "earth_radius = 6367"
   ]
  },
  {
   "cell_type": "markdown",
   "metadata": {},
   "source": [
    "## Load files"
   ]
  },
  {
   "cell_type": "code",
   "execution_count": 3,
   "metadata": {
    "ExecuteTime": {
     "end_time": "2019-09-10T09:12:43.173245Z",
     "start_time": "2019-09-10T09:12:39.938293Z"
    }
   },
   "outputs": [],
   "source": [
    "filelist = os.listdir(data_dir)\n",
    "files_to_read = (len(filelist) if files_to_read>len(filelist) else files_to_read)\n",
    "\n",
    "data_raw = pd.DataFrame()\n",
    "for file in filelist[:files_to_read]:\n",
    "    if os.path.isdir(data_dir + \"/\" + file):\n",
    "        continue\n",
    "    data_raw_temp = traj_df = pd.read_csv(data_dir + \"/\" + file)\n",
    "    data_raw = pd.concat([data_raw, data_raw_temp])\n"
   ]
  },
  {
   "cell_type": "markdown",
   "metadata": {},
   "source": [
    "## Prepare Data"
   ]
  },
  {
   "cell_type": "code",
   "execution_count": 4,
   "metadata": {
    "ExecuteTime": {
     "end_time": "2019-09-10T09:12:43.921363Z",
     "start_time": "2019-09-10T09:12:43.175110Z"
    }
   },
   "outputs": [],
   "source": [
    "data_raw = data_raw.rename(columns={\"height\": \"altitude\"})\\\n",
    "    .drop(columns = ['days_total', 'date', 'time'])\\\n",
    "    .dropna()"
   ]
  },
  {
   "cell_type": "code",
   "execution_count": 5,
   "metadata": {
    "ExecuteTime": {
     "end_time": "2019-09-10T09:12:44.120416Z",
     "start_time": "2019-09-10T09:12:43.923025Z"
    }
   },
   "outputs": [],
   "source": [
    "data_raw['record_dt'] = data_raw['record_dt'].astype(\"datetime64\")"
   ]
  },
  {
   "cell_type": "code",
   "execution_count": 6,
   "metadata": {
    "ExecuteTime": {
     "end_time": "2019-09-10T09:12:44.261796Z",
     "start_time": "2019-09-10T09:12:44.256922Z"
    }
   },
   "outputs": [],
   "source": [
    "def haversine(lat1, lon1, lat2, lon2, earth_radius=6371):\n",
    "    \n",
    "    lat1, lon1, lat2, lon2 = map(np.radians, [lat1, lon1, lat2, lon2])\n",
    "    \n",
    "    a = np.sin(np.abs(lat2-lat1)/2.0)**2 + \\\n",
    "        np.cos(lat1) * np.cos(lat2) * np.sin(np.abs(lon2-lon1)/2.0)**2\n",
    "    c = np.arctan2(np.sqrt(a), np.sqrt(1-a))\n",
    "    \n",
    "    return earth_radius * 2 * c"
   ]
  },
  {
   "cell_type": "code",
   "execution_count": 7,
   "metadata": {
    "ExecuteTime": {
     "end_time": "2019-09-10T09:12:44.865604Z",
     "start_time": "2019-09-10T09:12:44.860257Z"
    }
   },
   "outputs": [],
   "source": [
    "def bearing(lat1, lon1, lat2, lon2, earth_radius=6371):\n",
    "    \n",
    "    lat1, lon1, lat2, lon2 = map(np.radians, [lat1, lon1, lat2, lon2])\n",
    "    \n",
    "    y = np.sin(np.abs(lon2-lon1)) * np.cos(lat2)\n",
    "    x = np.cos(lat1) * np.sin(lat2) - np.sin(lat1) * np.cos(lat2) * np.cos(np.abs(lon2-lon1))\n",
    "    \n",
    "    return np.degrees(np.arctan2(y,x))"
   ]
  },
  {
   "cell_type": "markdown",
   "metadata": {},
   "source": [
    "## Process data"
   ]
  },
  {
   "cell_type": "code",
   "execution_count": 8,
   "metadata": {
    "ExecuteTime": {
     "end_time": "2019-09-10T09:12:46.901250Z",
     "start_time": "2019-09-10T09:12:46.892793Z"
    }
   },
   "outputs": [],
   "source": [
    "users = data_raw['user'].unique()"
   ]
  },
  {
   "cell_type": "code",
   "execution_count": 9,
   "metadata": {
    "ExecuteTime": {
     "end_time": "2019-09-10T09:14:46.679273Z",
     "start_time": "2019-09-10T09:12:47.889300Z"
    }
   },
   "outputs": [
    {
     "name": "stdout",
     "output_type": "stream",
     "text": [
      "User: 106\n",
      "User: 138\n",
      "User: 163\n",
      "User: 82\n",
      "User: 64\n",
      "User: 20\n",
      "User: 89\n",
      "User: 112\n",
      "User: 96\n",
      "User: 128\n"
     ]
    }
   ],
   "source": [
    "data = pd.DataFrame()\n",
    "for user in users[:files_to_read]:\n",
    "    print(\"User: \" + str(user))\n",
    "    data_user = data_raw[data_raw.user == user]\n",
    "    trips = data_user['trans_trip'].unique()\n",
    "    for trip in trips[:]:\n",
    "        \n",
    "        # data_traj consist of all trajectories of one singel trip\n",
    "        \n",
    "        data_traj = data_user[data_user.trans_trip == trip]\n",
    "        data_traj = data_traj.sort_values(by=['record_dt'])\n",
    "        \n",
    "        # Distance to next entry in meters\n",
    "        data_traj['dist'] = haversine(data_traj.latitude, data_traj.longitude, data_traj.latitude.shift(-1), data_traj.longitude.shift(-1)) * 1000\n",
    "        \n",
    "        data_traj['bearing'] = bearing(data_traj.latitude, data_traj.longitude, data_traj.latitude.shift(-1), data_traj.longitude.shift(-1))\n",
    "        \n",
    "        # Time difference to next entry in seconds\n",
    "        data_traj['time_delta'] = (data_traj.record_dt.shift(-1) - data_traj.record_dt).astype(\"int64\") / (1000000000.0)\n",
    "        \n",
    "        # Velocity until next entry in m/s\n",
    "        data_traj['velocity'] = data_traj['dist'] / (data_traj['time_delta'])\n",
    "        \n",
    "        # Acceleration in m/(sˆ2)\n",
    "        data_traj['acceleration'] = (data_traj['velocity'].shift(-1) - data_traj['velocity']) / (data_traj['time_delta'])\n",
    "        \n",
    "        \n",
    "        # Features \n",
    "        \n",
    "        temp =  pd.DataFrame()\n",
    "\n",
    "        for i in range(3):\n",
    "            temp['v' + str(i)] = data_traj.velocity.shift(-i)\n",
    "\n",
    "        for i in range(3):\n",
    "            temp['a' + str(i)] = data_traj.acceleration.shift(-i)\n",
    "\n",
    "        \n",
    "        \n",
    "        \n",
    "        temp['max(a)'] = temp[['a0', 'a1', 'a2']].values.max(1)\n",
    "        temp['min(a)'] = temp[['a0', 'a1', 'a2']].values.min(1)\n",
    "        temp['avg(a)'] = (temp.a0 + temp.a1 + temp.a2) / 3\n",
    "        temp['var(a)'] =   ((temp.a0 - temp['avg(a)'])**2\\\n",
    "                         + (temp.a1 - temp['avg(a)'])**2\\\n",
    "                         + (temp.a2 - temp['avg(a)']**2))/3\n",
    "        \n",
    "\n",
    "        \n",
    "        temp['max(v)'] = temp[['v0', 'v1', 'v2']].values.max(1)\n",
    "        temp['min(v)'] = temp[['v0', 'v1', 'v2']].values.min(1)\n",
    "        temp['avg(v)'] = (temp.v0 + temp.v1 + temp.v2) / 3\n",
    "        temp['var(v)'] =   ((temp.v0 - temp['avg(v)'])**2\\\n",
    "                 + (temp.v1 - temp['avg(v)'])**2\\\n",
    "                 + (temp.v2 - temp['avg(v)']**2))/3\n",
    "        \n",
    "        temp['brngChng'] = 180.0 - np.abs(np.abs(data_traj['bearing'] - data_traj['bearing'].shift(-1)) - 180.0)\n",
    "\n",
    "\n",
    "        temp['class'] = data_traj['trans_mode']\n",
    "        temp = temp.dropna()\n",
    "        \n",
    "        data = pd.concat([data,temp])\n",
    " "
   ]
  },
  {
   "cell_type": "markdown",
   "metadata": {},
   "source": [
    "## Preprocessing"
   ]
  },
  {
   "cell_type": "code",
   "execution_count": 10,
   "metadata": {
    "ExecuteTime": {
     "end_time": "2019-09-10T09:14:46.683464Z",
     "start_time": "2019-09-10T09:14:46.680992Z"
    }
   },
   "outputs": [],
   "source": [
    "final = data"
   ]
  },
  {
   "cell_type": "code",
   "execution_count": 11,
   "metadata": {
    "ExecuteTime": {
     "end_time": "2019-09-10T09:14:46.710204Z",
     "start_time": "2019-09-10T09:14:46.685841Z"
    }
   },
   "outputs": [
    {
     "data": {
      "text/html": [
       "<div>\n",
       "<style scoped>\n",
       "    .dataframe tbody tr th:only-of-type {\n",
       "        vertical-align: middle;\n",
       "    }\n",
       "\n",
       "    .dataframe tbody tr th {\n",
       "        vertical-align: top;\n",
       "    }\n",
       "\n",
       "    .dataframe thead th {\n",
       "        text-align: right;\n",
       "    }\n",
       "</style>\n",
       "<table border=\"1\" class=\"dataframe\">\n",
       "  <thead>\n",
       "    <tr style=\"text-align: right;\">\n",
       "      <th></th>\n",
       "      <th>v0</th>\n",
       "      <th>v1</th>\n",
       "      <th>v2</th>\n",
       "      <th>a0</th>\n",
       "      <th>a1</th>\n",
       "      <th>a2</th>\n",
       "      <th>max(a)</th>\n",
       "      <th>min(a)</th>\n",
       "      <th>avg(a)</th>\n",
       "      <th>var(a)</th>\n",
       "      <th>max(v)</th>\n",
       "      <th>min(v)</th>\n",
       "      <th>avg(v)</th>\n",
       "      <th>var(v)</th>\n",
       "      <th>brngChng</th>\n",
       "      <th>class</th>\n",
       "    </tr>\n",
       "  </thead>\n",
       "  <tbody>\n",
       "    <tr>\n",
       "      <td>0</td>\n",
       "      <td>21.946037</td>\n",
       "      <td>20.514227</td>\n",
       "      <td>22.052250</td>\n",
       "      <td>-0.110139</td>\n",
       "      <td>0.102535</td>\n",
       "      <td>-0.336079</td>\n",
       "      <td>0.102535</td>\n",
       "      <td>-0.336079</td>\n",
       "      <td>-0.114561</td>\n",
       "      <td>-0.100684</td>\n",
       "      <td>22.052250</td>\n",
       "      <td>20.514227</td>\n",
       "      <td>21.504171</td>\n",
       "      <td>-146.400635</td>\n",
       "      <td>14.171644</td>\n",
       "      <td>car</td>\n",
       "    </tr>\n",
       "    <tr>\n",
       "      <td>1</td>\n",
       "      <td>20.514227</td>\n",
       "      <td>22.052250</td>\n",
       "      <td>17.683225</td>\n",
       "      <td>0.102535</td>\n",
       "      <td>-0.336079</td>\n",
       "      <td>0.016664</td>\n",
       "      <td>0.102535</td>\n",
       "      <td>-0.336079</td>\n",
       "      <td>-0.072293</td>\n",
       "      <td>0.037195</td>\n",
       "      <td>22.052250</td>\n",
       "      <td>17.683225</td>\n",
       "      <td>20.083234</td>\n",
       "      <td>-127.196765</td>\n",
       "      <td>14.933392</td>\n",
       "      <td>car</td>\n",
       "    </tr>\n",
       "    <tr>\n",
       "      <td>2</td>\n",
       "      <td>22.052250</td>\n",
       "      <td>17.683225</td>\n",
       "      <td>18.866391</td>\n",
       "      <td>-0.336079</td>\n",
       "      <td>0.016664</td>\n",
       "      <td>-0.232531</td>\n",
       "      <td>0.016664</td>\n",
       "      <td>-0.336079</td>\n",
       "      <td>-0.183982</td>\n",
       "      <td>-0.067663</td>\n",
       "      <td>22.052250</td>\n",
       "      <td>17.683225</td>\n",
       "      <td>19.533955</td>\n",
       "      <td>-117.647337</td>\n",
       "      <td>8.662090</td>\n",
       "      <td>car</td>\n",
       "    </tr>\n",
       "    <tr>\n",
       "      <td>3</td>\n",
       "      <td>17.683225</td>\n",
       "      <td>18.866391</td>\n",
       "      <td>14.913357</td>\n",
       "      <td>0.016664</td>\n",
       "      <td>-0.232531</td>\n",
       "      <td>-0.256793</td>\n",
       "      <td>0.016664</td>\n",
       "      <td>-0.256793</td>\n",
       "      <td>-0.157553</td>\n",
       "      <td>-0.081881</td>\n",
       "      <td>18.866391</td>\n",
       "      <td>14.913357</td>\n",
       "      <td>17.154324</td>\n",
       "      <td>-92.048858</td>\n",
       "      <td>29.660693</td>\n",
       "      <td>car</td>\n",
       "    </tr>\n",
       "    <tr>\n",
       "      <td>4</td>\n",
       "      <td>18.866391</td>\n",
       "      <td>14.913357</td>\n",
       "      <td>13.629393</td>\n",
       "      <td>-0.232531</td>\n",
       "      <td>-0.256793</td>\n",
       "      <td>0.484412</td>\n",
       "      <td>0.484412</td>\n",
       "      <td>-0.256793</td>\n",
       "      <td>-0.001637</td>\n",
       "      <td>0.200942</td>\n",
       "      <td>18.866391</td>\n",
       "      <td>13.629393</td>\n",
       "      <td>15.803047</td>\n",
       "      <td>-75.310424</td>\n",
       "      <td>35.435421</td>\n",
       "      <td>car</td>\n",
       "    </tr>\n",
       "    <tr>\n",
       "      <td>...</td>\n",
       "      <td>...</td>\n",
       "      <td>...</td>\n",
       "      <td>...</td>\n",
       "      <td>...</td>\n",
       "      <td>...</td>\n",
       "      <td>...</td>\n",
       "      <td>...</td>\n",
       "      <td>...</td>\n",
       "      <td>...</td>\n",
       "      <td>...</td>\n",
       "      <td>...</td>\n",
       "      <td>...</td>\n",
       "      <td>...</td>\n",
       "      <td>...</td>\n",
       "      <td>...</td>\n",
       "      <td>...</td>\n",
       "    </tr>\n",
       "    <tr>\n",
       "      <td>491849</td>\n",
       "      <td>1.610132</td>\n",
       "      <td>0.944146</td>\n",
       "      <td>1.667924</td>\n",
       "      <td>-0.166496</td>\n",
       "      <td>0.180944</td>\n",
       "      <td>1.521431</td>\n",
       "      <td>1.521431</td>\n",
       "      <td>-0.166496</td>\n",
       "      <td>0.511960</td>\n",
       "      <td>0.609734</td>\n",
       "      <td>1.667924</td>\n",
       "      <td>0.944146</td>\n",
       "      <td>1.407401</td>\n",
       "      <td>-0.019049</td>\n",
       "      <td>6.003770</td>\n",
       "      <td>subway</td>\n",
       "    </tr>\n",
       "    <tr>\n",
       "      <td>491850</td>\n",
       "      <td>0.944146</td>\n",
       "      <td>1.667924</td>\n",
       "      <td>4.710786</td>\n",
       "      <td>0.180944</td>\n",
       "      <td>1.521431</td>\n",
       "      <td>0.102983</td>\n",
       "      <td>1.521431</td>\n",
       "      <td>0.102983</td>\n",
       "      <td>0.601786</td>\n",
       "      <td>0.254564</td>\n",
       "      <td>4.710786</td>\n",
       "      <td>0.944146</td>\n",
       "      <td>2.440952</td>\n",
       "      <td>0.530180</td>\n",
       "      <td>42.601367</td>\n",
       "      <td>subway</td>\n",
       "    </tr>\n",
       "    <tr>\n",
       "      <td>491851</td>\n",
       "      <td>1.667924</td>\n",
       "      <td>4.710786</td>\n",
       "      <td>5.122717</td>\n",
       "      <td>1.521431</td>\n",
       "      <td>0.102983</td>\n",
       "      <td>-0.305295</td>\n",
       "      <td>1.521431</td>\n",
       "      <td>-0.305295</td>\n",
       "      <td>0.439706</td>\n",
       "      <td>0.261625</td>\n",
       "      <td>5.122717</td>\n",
       "      <td>1.667924</td>\n",
       "      <td>3.833809</td>\n",
       "      <td>-1.371742</td>\n",
       "      <td>59.228015</td>\n",
       "      <td>subway</td>\n",
       "    </tr>\n",
       "    <tr>\n",
       "      <td>491852</td>\n",
       "      <td>4.710786</td>\n",
       "      <td>5.122717</td>\n",
       "      <td>3.901538</td>\n",
       "      <td>0.102983</td>\n",
       "      <td>-0.305295</td>\n",
       "      <td>-0.401901</td>\n",
       "      <td>0.102983</td>\n",
       "      <td>-0.401901</td>\n",
       "      <td>-0.201404</td>\n",
       "      <td>-0.113007</td>\n",
       "      <td>5.122717</td>\n",
       "      <td>3.901538</td>\n",
       "      <td>4.578347</td>\n",
       "      <td>-5.581948</td>\n",
       "      <td>1.465508</td>\n",
       "      <td>subway</td>\n",
       "    </tr>\n",
       "    <tr>\n",
       "      <td>491853</td>\n",
       "      <td>5.122717</td>\n",
       "      <td>3.901538</td>\n",
       "      <td>2.293934</td>\n",
       "      <td>-0.305295</td>\n",
       "      <td>-0.401901</td>\n",
       "      <td>0.095906</td>\n",
       "      <td>0.095906</td>\n",
       "      <td>-0.401901</td>\n",
       "      <td>-0.203763</td>\n",
       "      <td>0.034651</td>\n",
       "      <td>5.122717</td>\n",
       "      <td>2.293934</td>\n",
       "      <td>3.772730</td>\n",
       "      <td>-3.366832</td>\n",
       "      <td>37.542387</td>\n",
       "      <td>subway</td>\n",
       "    </tr>\n",
       "  </tbody>\n",
       "</table>\n",
       "<p>925247 rows × 16 columns</p>\n",
       "</div>"
      ],
      "text/plain": [
       "               v0         v1         v2        a0        a1        a2  \\\n",
       "0       21.946037  20.514227  22.052250 -0.110139  0.102535 -0.336079   \n",
       "1       20.514227  22.052250  17.683225  0.102535 -0.336079  0.016664   \n",
       "2       22.052250  17.683225  18.866391 -0.336079  0.016664 -0.232531   \n",
       "3       17.683225  18.866391  14.913357  0.016664 -0.232531 -0.256793   \n",
       "4       18.866391  14.913357  13.629393 -0.232531 -0.256793  0.484412   \n",
       "...           ...        ...        ...       ...       ...       ...   \n",
       "491849   1.610132   0.944146   1.667924 -0.166496  0.180944  1.521431   \n",
       "491850   0.944146   1.667924   4.710786  0.180944  1.521431  0.102983   \n",
       "491851   1.667924   4.710786   5.122717  1.521431  0.102983 -0.305295   \n",
       "491852   4.710786   5.122717   3.901538  0.102983 -0.305295 -0.401901   \n",
       "491853   5.122717   3.901538   2.293934 -0.305295 -0.401901  0.095906   \n",
       "\n",
       "          max(a)    min(a)    avg(a)    var(a)     max(v)     min(v)  \\\n",
       "0       0.102535 -0.336079 -0.114561 -0.100684  22.052250  20.514227   \n",
       "1       0.102535 -0.336079 -0.072293  0.037195  22.052250  17.683225   \n",
       "2       0.016664 -0.336079 -0.183982 -0.067663  22.052250  17.683225   \n",
       "3       0.016664 -0.256793 -0.157553 -0.081881  18.866391  14.913357   \n",
       "4       0.484412 -0.256793 -0.001637  0.200942  18.866391  13.629393   \n",
       "...          ...       ...       ...       ...        ...        ...   \n",
       "491849  1.521431 -0.166496  0.511960  0.609734   1.667924   0.944146   \n",
       "491850  1.521431  0.102983  0.601786  0.254564   4.710786   0.944146   \n",
       "491851  1.521431 -0.305295  0.439706  0.261625   5.122717   1.667924   \n",
       "491852  0.102983 -0.401901 -0.201404 -0.113007   5.122717   3.901538   \n",
       "491853  0.095906 -0.401901 -0.203763  0.034651   5.122717   2.293934   \n",
       "\n",
       "           avg(v)      var(v)   brngChng   class  \n",
       "0       21.504171 -146.400635  14.171644     car  \n",
       "1       20.083234 -127.196765  14.933392     car  \n",
       "2       19.533955 -117.647337   8.662090     car  \n",
       "3       17.154324  -92.048858  29.660693     car  \n",
       "4       15.803047  -75.310424  35.435421     car  \n",
       "...           ...         ...        ...     ...  \n",
       "491849   1.407401   -0.019049   6.003770  subway  \n",
       "491850   2.440952    0.530180  42.601367  subway  \n",
       "491851   3.833809   -1.371742  59.228015  subway  \n",
       "491852   4.578347   -5.581948   1.465508  subway  \n",
       "491853   3.772730   -3.366832  37.542387  subway  \n",
       "\n",
       "[925247 rows x 16 columns]"
      ]
     },
     "execution_count": 11,
     "metadata": {},
     "output_type": "execute_result"
    }
   ],
   "source": [
    "final"
   ]
  },
  {
   "cell_type": "code",
   "execution_count": 12,
   "metadata": {
    "ExecuteTime": {
     "end_time": "2019-09-10T09:14:47.299625Z",
     "start_time": "2019-09-10T09:14:46.712644Z"
    }
   },
   "outputs": [],
   "source": [
    "# taxi -> car\n",
    "final['class'][final['class'] == 'taxi'] = 'car'\n",
    "\n",
    "used_classes = ['car', 'walk', 'bike', 'bus', 'train']\n",
    "\n",
    "final = final.drop(final[~final['class'].isin(used_classes)].index)"
   ]
  },
  {
   "cell_type": "code",
   "execution_count": 13,
   "metadata": {
    "ExecuteTime": {
     "end_time": "2019-09-10T09:14:48.082282Z",
     "start_time": "2019-09-10T09:14:47.301210Z"
    }
   },
   "outputs": [],
   "source": [
    "final = final.drop(final[(final['class'] == 'walk') & ((final['max(v)'] > 7) | (final['max(a)'] >= 3))].index)\n",
    "final = final.drop(final[(final['class'] == 'bike') & ((final['max(v)'] > 12) | (final['max(a)'] >= 3))].index)\n",
    "final = final.drop(final[(final['class'] == 'bus') & ((final['max(v)'] > 34) | (final['max(a)'] >= 2))].index)\n",
    "final = final.drop(final[(final['class'] == 'car') & ((final['max(v)'] > 50) | (final['max(a)'] >= 10))].index)\n",
    "final = final.drop(final[(final['class'] == 'train') & ((final['max(v)'] > 34) | (final['max(a)'] >= 3))].index)"
   ]
  },
  {
   "cell_type": "code",
   "execution_count": 14,
   "metadata": {
    "ExecuteTime": {
     "end_time": "2019-09-10T09:14:48.087446Z",
     "start_time": "2019-09-10T09:14:48.083963Z"
    }
   },
   "outputs": [
    {
     "name": "stdout",
     "output_type": "stream",
     "text": [
      "483057\n"
     ]
    }
   ],
   "source": [
    "print(len(final))"
   ]
  },
  {
   "cell_type": "code",
   "execution_count": 15,
   "metadata": {
    "ExecuteTime": {
     "end_time": "2019-09-10T09:14:58.385806Z",
     "start_time": "2019-09-10T09:14:48.089471Z"
    }
   },
   "outputs": [],
   "source": [
    "final.to_csv(output_file)"
   ]
  },
  {
   "cell_type": "code",
   "execution_count": 16,
   "metadata": {
    "ExecuteTime": {
     "end_time": "2019-09-10T09:14:58.455893Z",
     "start_time": "2019-09-10T09:14:58.388491Z"
    }
   },
   "outputs": [
    {
     "data": {
      "text/html": [
       "<div>\n",
       "<style scoped>\n",
       "    .dataframe tbody tr th:only-of-type {\n",
       "        vertical-align: middle;\n",
       "    }\n",
       "\n",
       "    .dataframe tbody tr th {\n",
       "        vertical-align: top;\n",
       "    }\n",
       "\n",
       "    .dataframe thead th {\n",
       "        text-align: right;\n",
       "    }\n",
       "</style>\n",
       "<table border=\"1\" class=\"dataframe\">\n",
       "  <thead>\n",
       "    <tr style=\"text-align: right;\">\n",
       "      <th></th>\n",
       "      <th>v0</th>\n",
       "      <th>v1</th>\n",
       "      <th>v2</th>\n",
       "      <th>a0</th>\n",
       "      <th>a1</th>\n",
       "      <th>a2</th>\n",
       "      <th>max(a)</th>\n",
       "      <th>min(a)</th>\n",
       "      <th>avg(a)</th>\n",
       "      <th>var(a)</th>\n",
       "      <th>max(v)</th>\n",
       "      <th>min(v)</th>\n",
       "      <th>avg(v)</th>\n",
       "      <th>var(v)</th>\n",
       "      <th>brngChng</th>\n",
       "    </tr>\n",
       "    <tr>\n",
       "      <th>class</th>\n",
       "      <th></th>\n",
       "      <th></th>\n",
       "      <th></th>\n",
       "      <th></th>\n",
       "      <th></th>\n",
       "      <th></th>\n",
       "      <th></th>\n",
       "      <th></th>\n",
       "      <th></th>\n",
       "      <th></th>\n",
       "      <th></th>\n",
       "      <th></th>\n",
       "      <th></th>\n",
       "      <th></th>\n",
       "      <th></th>\n",
       "    </tr>\n",
       "  </thead>\n",
       "  <tbody>\n",
       "    <tr>\n",
       "      <td>bike</td>\n",
       "      <td>79307</td>\n",
       "      <td>79307</td>\n",
       "      <td>79307</td>\n",
       "      <td>79307</td>\n",
       "      <td>79307</td>\n",
       "      <td>79307</td>\n",
       "      <td>79307</td>\n",
       "      <td>79307</td>\n",
       "      <td>79307</td>\n",
       "      <td>79307</td>\n",
       "      <td>79307</td>\n",
       "      <td>79307</td>\n",
       "      <td>79307</td>\n",
       "      <td>79307</td>\n",
       "      <td>79307</td>\n",
       "    </tr>\n",
       "    <tr>\n",
       "      <td>bus</td>\n",
       "      <td>30903</td>\n",
       "      <td>30903</td>\n",
       "      <td>30903</td>\n",
       "      <td>30903</td>\n",
       "      <td>30903</td>\n",
       "      <td>30903</td>\n",
       "      <td>30903</td>\n",
       "      <td>30903</td>\n",
       "      <td>30903</td>\n",
       "      <td>30903</td>\n",
       "      <td>30903</td>\n",
       "      <td>30903</td>\n",
       "      <td>30903</td>\n",
       "      <td>30903</td>\n",
       "      <td>30903</td>\n",
       "    </tr>\n",
       "    <tr>\n",
       "      <td>car</td>\n",
       "      <td>214843</td>\n",
       "      <td>214843</td>\n",
       "      <td>214843</td>\n",
       "      <td>214843</td>\n",
       "      <td>214843</td>\n",
       "      <td>214843</td>\n",
       "      <td>214843</td>\n",
       "      <td>214843</td>\n",
       "      <td>214843</td>\n",
       "      <td>214843</td>\n",
       "      <td>214843</td>\n",
       "      <td>214843</td>\n",
       "      <td>214843</td>\n",
       "      <td>214843</td>\n",
       "      <td>214843</td>\n",
       "    </tr>\n",
       "    <tr>\n",
       "      <td>train</td>\n",
       "      <td>12571</td>\n",
       "      <td>12571</td>\n",
       "      <td>12571</td>\n",
       "      <td>12571</td>\n",
       "      <td>12571</td>\n",
       "      <td>12571</td>\n",
       "      <td>12571</td>\n",
       "      <td>12571</td>\n",
       "      <td>12571</td>\n",
       "      <td>12571</td>\n",
       "      <td>12571</td>\n",
       "      <td>12571</td>\n",
       "      <td>12571</td>\n",
       "      <td>12571</td>\n",
       "      <td>12571</td>\n",
       "    </tr>\n",
       "    <tr>\n",
       "      <td>walk</td>\n",
       "      <td>145433</td>\n",
       "      <td>145433</td>\n",
       "      <td>145433</td>\n",
       "      <td>145433</td>\n",
       "      <td>145433</td>\n",
       "      <td>145433</td>\n",
       "      <td>145433</td>\n",
       "      <td>145433</td>\n",
       "      <td>145433</td>\n",
       "      <td>145433</td>\n",
       "      <td>145433</td>\n",
       "      <td>145433</td>\n",
       "      <td>145433</td>\n",
       "      <td>145433</td>\n",
       "      <td>145433</td>\n",
       "    </tr>\n",
       "  </tbody>\n",
       "</table>\n",
       "</div>"
      ],
      "text/plain": [
       "           v0      v1      v2      a0      a1      a2  max(a)  min(a)  avg(a)  \\\n",
       "class                                                                           \n",
       "bike    79307   79307   79307   79307   79307   79307   79307   79307   79307   \n",
       "bus     30903   30903   30903   30903   30903   30903   30903   30903   30903   \n",
       "car    214843  214843  214843  214843  214843  214843  214843  214843  214843   \n",
       "train   12571   12571   12571   12571   12571   12571   12571   12571   12571   \n",
       "walk   145433  145433  145433  145433  145433  145433  145433  145433  145433   \n",
       "\n",
       "       var(a)  max(v)  min(v)  avg(v)  var(v)  brngChng  \n",
       "class                                                    \n",
       "bike    79307   79307   79307   79307   79307     79307  \n",
       "bus     30903   30903   30903   30903   30903     30903  \n",
       "car    214843  214843  214843  214843  214843    214843  \n",
       "train   12571   12571   12571   12571   12571     12571  \n",
       "walk   145433  145433  145433  145433  145433    145433  "
      ]
     },
     "execution_count": 16,
     "metadata": {},
     "output_type": "execute_result"
    }
   ],
   "source": [
    "final.groupby(by='class').count()"
   ]
  },
  {
   "cell_type": "code",
   "execution_count": null,
   "metadata": {},
   "outputs": [],
   "source": []
  }
 ],
 "metadata": {
  "kernelspec": {
   "display_name": "Python 3",
   "language": "python",
   "name": "python3"
  },
  "language_info": {
   "codemirror_mode": {
    "name": "ipython",
    "version": 3
   },
   "file_extension": ".py",
   "mimetype": "text/x-python",
   "name": "python",
   "nbconvert_exporter": "python",
   "pygments_lexer": "ipython3",
   "version": "3.7.3"
  }
 },
 "nbformat": 4,
 "nbformat_minor": 2
}
