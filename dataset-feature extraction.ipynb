{
 "cells": [
  {
   "cell_type": "markdown",
   "metadata": {},
   "source": [
    "# Dataset - Feature Extraction\n",
    "\n",
    "In this notebook, the dataset used to train the machine learning model is created"
   ]
  },
  {
   "cell_type": "code",
   "execution_count": 1,
   "metadata": {
    "ExecuteTime": {
     "end_time": "2019-08-28T15:16:06.177474Z",
     "start_time": "2019-08-28T15:16:05.697736Z"
    }
   },
   "outputs": [],
   "source": [
    "import pandas as pd\n",
    "import numpy as np\n",
    "import datetime as dt\n",
    "import os\n",
    "import time\n",
    "\n",
    "pd.set_option('mode.chained_assignment', None)"
   ]
  },
  {
   "cell_type": "code",
   "execution_count": 13,
   "metadata": {
    "ExecuteTime": {
     "end_time": "2019-08-28T15:22:43.411526Z",
     "start_time": "2019-08-28T15:22:43.406907Z"
    }
   },
   "outputs": [],
   "source": [
    "# Constants\n",
    "data_dir = 'geolife-data/Prepared'\n",
    "output_file = 'processed_data.csv'\n",
    "files_to_read = 5\n",
    "earth_radius = 6367"
   ]
  },
  {
   "cell_type": "markdown",
   "metadata": {},
   "source": [
    "## Load files"
   ]
  },
  {
   "cell_type": "code",
   "execution_count": 3,
   "metadata": {
    "ExecuteTime": {
     "end_time": "2019-08-28T15:16:08.065028Z",
     "start_time": "2019-08-28T15:16:07.250997Z"
    }
   },
   "outputs": [],
   "source": [
    "filelist = os.listdir(data_dir)\n",
    "files_to_read = (len(filelist) if files_to_read>len(filelist) else files_to_read)\n",
    "\n",
    "data_raw = pd.DataFrame()\n",
    "for file in filelist[:files_to_read]:\n",
    "    if os.path.isdir(data_dir + \"/\" + file):\n",
    "        continue\n",
    "    data_raw_temp = traj_df = pd.read_csv(data_dir + \"/\" + file)\n",
    "    data_raw = pd.concat([data_raw, data_raw_temp])\n"
   ]
  },
  {
   "cell_type": "markdown",
   "metadata": {},
   "source": [
    "## Prepare Data"
   ]
  },
  {
   "cell_type": "code",
   "execution_count": 4,
   "metadata": {
    "ExecuteTime": {
     "end_time": "2019-08-28T15:16:08.282681Z",
     "start_time": "2019-08-28T15:16:08.066839Z"
    }
   },
   "outputs": [],
   "source": [
    "data_raw = data_raw.rename(columns={\"height\": \"altitude\"})\\\n",
    "    .drop(columns = ['days_total', 'date', 'time'])\\\n",
    "    .dropna()"
   ]
  },
  {
   "cell_type": "code",
   "execution_count": 5,
   "metadata": {
    "ExecuteTime": {
     "end_time": "2019-08-28T15:16:08.367061Z",
     "start_time": "2019-08-28T15:16:08.308942Z"
    }
   },
   "outputs": [],
   "source": [
    "data_raw['record_dt'] = data_raw['record_dt'].astype(\"datetime64\")"
   ]
  },
  {
   "cell_type": "code",
   "execution_count": 6,
   "metadata": {
    "ExecuteTime": {
     "end_time": "2019-08-28T15:16:09.213620Z",
     "start_time": "2019-08-28T15:16:09.207697Z"
    }
   },
   "outputs": [],
   "source": [
    "def haversine(lat1, lon1, lat2, lon2, earth_radius=6371):\n",
    "    \n",
    "    lat1, lon1, lat2, lon2 = map(np.radians, [lat1, lon1, lat2, lon2])\n",
    "    \n",
    "    a = np.sin(np.abs(lat2-lat1)/2.0)**2 + \\\n",
    "        np.cos(lat1) * np.cos(lat2) * np.sin(np.abs(lon2-lon1)/2.0)**2\n",
    "    c = np.arctan2(np.sqrt(a), np.sqrt(1-a))\n",
    "    \n",
    "    return earth_radius * 2 * c"
   ]
  },
  {
   "cell_type": "markdown",
   "metadata": {},
   "source": [
    "## Process data"
   ]
  },
  {
   "cell_type": "code",
   "execution_count": 7,
   "metadata": {
    "ExecuteTime": {
     "end_time": "2019-08-28T15:16:10.401241Z",
     "start_time": "2019-08-28T15:16:10.396731Z"
    }
   },
   "outputs": [],
   "source": [
    "users = data_raw['user'].unique()"
   ]
  },
  {
   "cell_type": "code",
   "execution_count": 9,
   "metadata": {
    "ExecuteTime": {
     "end_time": "2019-08-28T15:16:32.975348Z",
     "start_time": "2019-08-28T15:16:19.718917Z"
    }
   },
   "outputs": [],
   "source": [
    "final = pd.DataFrame()\n",
    "for user in users[:4]:\n",
    "    data_user = data_raw[data_raw.user == user]\n",
    "    trips = data_user['trans_trip'].unique()\n",
    "    for trip in trips[:]:\n",
    "        \n",
    "        # data_traj consist of all trajectories of one singel trip\n",
    "        \n",
    "        data_traj = data_user[data_user.trans_trip == trip]\n",
    "        data_traj = data_traj.sort_values(by=['record_dt'])\n",
    "        \n",
    "        # Distance to next entry in meters\n",
    "        data_traj['dist'] = haversine(data_traj.latitude, data_traj.longitude, data_traj.latitude.shift(-1), data_traj.longitude.shift(-1)) * 1000\n",
    "        \n",
    "        # Time difference to next entry in seconds\n",
    "        data_traj['time_delta'] = (data_traj.record_dt.shift(-1) - data_traj.record_dt).astype(\"int64\") / (1000000000.0)\n",
    "        \n",
    "        # Velocity until next entry in m/s\n",
    "        data_traj['velocity'] = data_traj['dist'] / (data_traj['time_delta'])\n",
    "        \n",
    "        # Acceleration in m/(sˆ2)\n",
    "        data_traj['acceleration'] = (data_traj['velocity'].shift(-1) - data_traj['velocity']) / (data_traj['time_delta'])\n",
    "        \n",
    "        \n",
    "        # Features \n",
    "        \n",
    "        temp =  pd.DataFrame()\n",
    "\n",
    "        for i in range(3):\n",
    "            temp['v' + str(i)] = data_traj.velocity.shift(-i)\n",
    "\n",
    "        for i in range(3):\n",
    "            temp['a' + str(i)] = data_traj.acceleration.shift(-i)\n",
    "\n",
    "        temp['mean(a)'] = (temp.a0 + temp.a1 + temp.a2) / 3\n",
    "        temp['mean(v)'] = (temp.v0 + temp.v1 + temp.v2) / 3\n",
    "        \n",
    "        temp['max(a)'] = temp[['a0', 'a1', 'a2']].values.max(1)\n",
    "        temp['min(a)'] = temp[['a0', 'a1', 'a2']].values.min(1)\n",
    "        \n",
    "        temp['max(v)'] = temp[['v0', 'v1', 'v2']].values.max(1)\n",
    "        temp['min(v)'] = temp[['v0', 'v1', 'v2']].values.min(1)\n",
    "\n",
    "\n",
    "        temp['class'] = data_traj['trans_mode']\n",
    "        temp = temp.dropna()\n",
    "        \n",
    "        final = pd.concat([final,temp])\n",
    " "
   ]
  },
  {
   "cell_type": "code",
   "execution_count": 14,
   "metadata": {
    "ExecuteTime": {
     "end_time": "2019-08-28T15:22:59.022455Z",
     "start_time": "2019-08-28T15:22:55.638419Z"
    }
   },
   "outputs": [],
   "source": [
    "final.to_csv(output_file)"
   ]
  },
  {
   "cell_type": "code",
   "execution_count": null,
   "metadata": {},
   "outputs": [],
   "source": []
  },
  {
   "cell_type": "code",
   "execution_count": null,
   "metadata": {},
   "outputs": [],
   "source": []
  }
 ],
 "metadata": {
  "kernelspec": {
   "display_name": "Python 3",
   "language": "python",
   "name": "python3"
  },
  "language_info": {
   "codemirror_mode": {
    "name": "ipython",
    "version": 3
   },
   "file_extension": ".py",
   "mimetype": "text/x-python",
   "name": "python",
   "nbconvert_exporter": "python",
   "pygments_lexer": "ipython3",
   "version": "3.7.3"
  }
 },
 "nbformat": 4,
 "nbformat_minor": 2
}
