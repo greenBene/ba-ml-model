{
 "cells": [
  {
   "cell_type": "code",
   "execution_count": 9,
   "metadata": {
    "ExecuteTime": {
     "end_time": "2019-09-16T08:30:43.328216Z",
     "start_time": "2019-09-16T08:30:43.324779Z"
    }
   },
   "outputs": [],
   "source": [
    "import pandas as pd\n",
    "import numpy as np\n",
    "import xgboost as xgb\n",
    "import os\n",
    "pd.set_option('mode.chained_assignment', None)"
   ]
  },
  {
   "cell_type": "code",
   "execution_count": 6,
   "metadata": {
    "ExecuteTime": {
     "end_time": "2019-09-16T08:30:29.389414Z",
     "start_time": "2019-09-16T08:30:29.385751Z"
    }
   },
   "outputs": [],
   "source": [
    "# Constants\n",
    "data_dir = 'geolife-data/Prepared'\n",
    "output_file = 'processed_data.csv'\n",
    "files_to_read = 15\n",
    "earth_radius = 6367"
   ]
  },
  {
   "cell_type": "code",
   "execution_count": 7,
   "metadata": {
    "ExecuteTime": {
     "end_time": "2019-09-16T08:30:29.736816Z",
     "start_time": "2019-09-16T08:30:29.731235Z"
    }
   },
   "outputs": [],
   "source": [
    "def haversine(lat1, lon1, lat2, lon2, earth_radius=6371):\n",
    "    \n",
    "    lat1, lon1, lat2, lon2 = map(np.radians, [lat1, lon1, lat2, lon2])\n",
    "    \n",
    "    a = np.sin(np.abs(lat2-lat1)/2.0)**2 + \\\n",
    "        np.cos(lat1) * np.cos(lat2) * np.sin(np.abs(lon2-lon1)/2.0)**2\n",
    "    c = np.arctan2(np.sqrt(a), np.sqrt(1-a))\n",
    "    \n",
    "    return earth_radius * 2 * c"
   ]
  },
  {
   "cell_type": "code",
   "execution_count": 14,
   "metadata": {
    "ExecuteTime": {
     "end_time": "2019-09-16T08:33:22.530995Z",
     "start_time": "2019-09-16T08:33:22.525714Z"
    }
   },
   "outputs": [],
   "source": [
    "def bearing(lat1, lon1, lat2, lon2, earth_radius=6371):\n",
    "    \n",
    "    lat1, lon1, lat2, lon2 = map(np.radians, [lat1, lon1, lat2, lon2])\n",
    "    \n",
    "    y = np.sin(np.abs(lon2-lon1)) * np.cos(lat2)\n",
    "    x = np.cos(lat1) * np.sin(lat2) - np.sin(lat1) * np.cos(lat2) * np.cos(np.abs(lon2-lon1))\n",
    "    \n",
    "    return np.degrees(np.arctan2(y,x))"
   ]
  },
  {
   "cell_type": "code",
   "execution_count": 10,
   "metadata": {
    "ExecuteTime": {
     "end_time": "2019-09-16T08:30:50.698692Z",
     "start_time": "2019-09-16T08:30:44.904895Z"
    }
   },
   "outputs": [],
   "source": [
    "filelist = os.listdir(data_dir)\n",
    "files_to_read = (len(filelist) if files_to_read>len(filelist) else files_to_read)\n",
    "\n",
    "data_raw = pd.DataFrame()\n",
    "for file in filelist[:files_to_read]:\n",
    "    if os.path.isdir(data_dir + \"/\" + file):\n",
    "        continue\n",
    "    data_raw_temp = traj_df = pd.read_csv(data_dir + \"/\" + file)\n",
    "    data_raw = pd.concat([data_raw, data_raw_temp])\n"
   ]
  },
  {
   "cell_type": "code",
   "execution_count": 11,
   "metadata": {
    "ExecuteTime": {
     "end_time": "2019-09-16T08:31:08.374305Z",
     "start_time": "2019-09-16T08:31:06.706041Z"
    }
   },
   "outputs": [],
   "source": [
    "data_raw = data_raw.rename(columns={\"height\": \"altitude\"})\\\n",
    "    .drop(columns = ['days_total', 'date', 'time'])\\\n",
    "    .dropna()\n",
    "\n",
    "data_raw['record_dt'] = data_raw['record_dt'].astype(\"datetime64\")\n",
    "\n",
    "used_classes = ['car', 'walk', 'bike', 'train']\n",
    "\n",
    "data_raw = data_raw.drop(data_raw[~data_raw['trans_mode'].isin(used_classes)].index)"
   ]
  },
  {
   "cell_type": "code",
   "execution_count": 12,
   "metadata": {
    "ExecuteTime": {
     "end_time": "2019-09-16T08:31:15.958132Z",
     "start_time": "2019-09-16T08:31:15.946219Z"
    }
   },
   "outputs": [],
   "source": [
    "users = data_raw['user'].unique()"
   ]
  },
  {
   "cell_type": "code",
   "execution_count": 18,
   "metadata": {
    "ExecuteTime": {
     "end_time": "2019-09-16T08:35:19.480462Z",
     "start_time": "2019-09-16T08:34:37.041383Z"
    }
   },
   "outputs": [
    {
     "name": "stdout",
     "output_type": "stream",
     "text": [
      "User: 106\n",
      "User: 138\n",
      "User: 163\n",
      "User: 82\n",
      "User: 64\n",
      "User: 20\n",
      "User: 89\n",
      "User: 112\n",
      "User: 96\n",
      "User: 128\n",
      "User: 92\n",
      "User: 102\n",
      "User: 86\n"
     ]
    }
   ],
   "source": [
    "data = pd.DataFrame()\n",
    "for user in users[:files_to_read]:\n",
    "    print(\"User: \" + str(user))\n",
    "    data_user = data_raw[data_raw.user == user]\n",
    "    trips = data_user['trans_trip'].unique()\n",
    "    for trip in trips[:]:\n",
    "        \n",
    "        # data_traj consist of all trajectories of one singel trip\n",
    "        \n",
    "        data_traj = data_user[data_user.trans_trip == trip]\n",
    "        data_traj = data_traj.sort_values(by=['record_dt'])\n",
    "        \n",
    "        # Distance to next entry in meters\n",
    "        data_traj['dist'] = haversine(data_traj.latitude, data_traj.longitude, data_traj.latitude.shift(-1), data_traj.longitude.shift(-1)) * 1000\n",
    "        \n",
    "        data_traj['bearing'] = bearing(data_traj.latitude, data_traj.longitude, data_traj.latitude.shift(-1), data_traj.longitude.shift(-1))\n",
    "        data_traj['brngChng'] = 180.0 - np.abs(np.abs(data_traj['bearing'] - data_traj['bearing'].shift(-1)) - 180.0)\n",
    "        \n",
    "        # Time difference to next entry in seconds\n",
    "        data_traj['time_delta'] = (data_traj.record_dt.shift(-1) - data_traj.record_dt).astype(\"int64\") / (1000000000.0)\n",
    "        \n",
    "        # Velocity until next entry in m/s\n",
    "        data_traj['velocity'] = data_traj['dist'] / (data_traj['time_delta'])\n",
    "        \n",
    "        # Acceleration in m/(sˆ2)\n",
    "        data_traj['acceleration'] = (data_traj['velocity'].shift(-1) - data_traj['velocity']) / (data_traj['time_delta'])\n",
    "        \n",
    "        \n",
    "        data = pd.concat([data, data_traj])\n",
    " "
   ]
  },
  {
   "cell_type": "code",
   "execution_count": 20,
   "metadata": {
    "ExecuteTime": {
     "end_time": "2019-09-16T08:35:34.608008Z",
     "start_time": "2019-09-16T08:35:34.408383Z"
    }
   },
   "outputs": [
    {
     "data": {
      "text/html": [
       "<div>\n",
       "<style scoped>\n",
       "    .dataframe tbody tr th:only-of-type {\n",
       "        vertical-align: middle;\n",
       "    }\n",
       "\n",
       "    .dataframe tbody tr th {\n",
       "        vertical-align: top;\n",
       "    }\n",
       "\n",
       "    .dataframe thead th {\n",
       "        text-align: right;\n",
       "    }\n",
       "</style>\n",
       "<table border=\"1\" class=\"dataframe\">\n",
       "  <thead>\n",
       "    <tr style=\"text-align: right;\">\n",
       "      <th></th>\n",
       "      <th>Unnamed: 0</th>\n",
       "      <th>latitude</th>\n",
       "      <th>longitude</th>\n",
       "      <th>altitude</th>\n",
       "      <th>user</th>\n",
       "      <th>trans_trip</th>\n",
       "      <th>dist</th>\n",
       "      <th>bearing</th>\n",
       "      <th>brngChng</th>\n",
       "      <th>time_delta</th>\n",
       "      <th>velocity</th>\n",
       "      <th>acceleration</th>\n",
       "    </tr>\n",
       "  </thead>\n",
       "  <tbody>\n",
       "    <tr>\n",
       "      <td>count</td>\n",
       "      <td>410600.000000</td>\n",
       "      <td>410600.000000</td>\n",
       "      <td>410600.000000</td>\n",
       "      <td>410600.000000</td>\n",
       "      <td>410600.00000</td>\n",
       "      <td>410600.000000</td>\n",
       "      <td>409565.000000</td>\n",
       "      <td>409565.000000</td>\n",
       "      <td>408534.000000</td>\n",
       "      <td>4.106000e+05</td>\n",
       "      <td>4.093270e+05</td>\n",
       "      <td>4.080600e+05</td>\n",
       "    </tr>\n",
       "    <tr>\n",
       "      <td>mean</td>\n",
       "      <td>1451.350543</td>\n",
       "      <td>39.841724</td>\n",
       "      <td>109.730593</td>\n",
       "      <td>472.641111</td>\n",
       "      <td>115.58266</td>\n",
       "      <td>509.783989</td>\n",
       "      <td>36.645141</td>\n",
       "      <td>89.192027</td>\n",
       "      <td>18.504814</td>\n",
       "      <td>-2.324936e+07</td>\n",
       "      <td>inf</td>\n",
       "      <td>NaN</td>\n",
       "    </tr>\n",
       "    <tr>\n",
       "      <td>std</td>\n",
       "      <td>2885.773355</td>\n",
       "      <td>4.194974</td>\n",
       "      <td>39.963554</td>\n",
       "      <td>1010.275983</td>\n",
       "      <td>36.94495</td>\n",
       "      <td>414.203122</td>\n",
       "      <td>509.475885</td>\n",
       "      <td>54.926855</td>\n",
       "      <td>28.794240</td>\n",
       "      <td>4.624906e+08</td>\n",
       "      <td>NaN</td>\n",
       "      <td>NaN</td>\n",
       "    </tr>\n",
       "    <tr>\n",
       "      <td>min</td>\n",
       "      <td>0.000000</td>\n",
       "      <td>22.260945</td>\n",
       "      <td>-122.331533</td>\n",
       "      <td>-22139.100000</td>\n",
       "      <td>20.00000</td>\n",
       "      <td>0.000000</td>\n",
       "      <td>0.000000</td>\n",
       "      <td>0.000000</td>\n",
       "      <td>0.000000</td>\n",
       "      <td>-9.223372e+09</td>\n",
       "      <td>0.000000e+00</td>\n",
       "      <td>-inf</td>\n",
       "    </tr>\n",
       "    <tr>\n",
       "      <td>25%</td>\n",
       "      <td>195.000000</td>\n",
       "      <td>39.967375</td>\n",
       "      <td>116.273795</td>\n",
       "      <td>118.100000</td>\n",
       "      <td>128.00000</td>\n",
       "      <td>169.000000</td>\n",
       "      <td>2.317364</td>\n",
       "      <td>38.615309</td>\n",
       "      <td>1.676207</td>\n",
       "      <td>2.000000e+00</td>\n",
       "      <td>1.164503e+00</td>\n",
       "      <td>-1.787937e-01</td>\n",
       "    </tr>\n",
       "    <tr>\n",
       "      <td>50%</td>\n",
       "      <td>515.000000</td>\n",
       "      <td>39.986057</td>\n",
       "      <td>116.327137</td>\n",
       "      <td>160.800000</td>\n",
       "      <td>128.00000</td>\n",
       "      <td>457.000000</td>\n",
       "      <td>5.380679</td>\n",
       "      <td>89.999991</td>\n",
       "      <td>7.163084</td>\n",
       "      <td>2.000000e+00</td>\n",
       "      <td>2.561303e+00</td>\n",
       "      <td>1.972002e-03</td>\n",
       "    </tr>\n",
       "    <tr>\n",
       "      <td>75%</td>\n",
       "      <td>1423.000000</td>\n",
       "      <td>40.075330</td>\n",
       "      <td>116.373140</td>\n",
       "      <td>262.500000</td>\n",
       "      <td>128.00000</td>\n",
       "      <td>722.000000</td>\n",
       "      <td>35.318324</td>\n",
       "      <td>139.293976</td>\n",
       "      <td>21.794372</td>\n",
       "      <td>6.000000e+00</td>\n",
       "      <td>8.411582e+00</td>\n",
       "      <td>1.870326e-01</td>\n",
       "    </tr>\n",
       "    <tr>\n",
       "      <td>max</td>\n",
       "      <td>25578.000000</td>\n",
       "      <td>51.486608</td>\n",
       "      <td>126.993377</td>\n",
       "      <td>28969.800000</td>\n",
       "      <td>163.00000</td>\n",
       "      <td>3151.000000</td>\n",
       "      <td>179535.150773</td>\n",
       "      <td>180.000000</td>\n",
       "      <td>180.000000</td>\n",
       "      <td>4.634300e+04</td>\n",
       "      <td>inf</td>\n",
       "      <td>inf</td>\n",
       "    </tr>\n",
       "  </tbody>\n",
       "</table>\n",
       "</div>"
      ],
      "text/plain": [
       "          Unnamed: 0       latitude      longitude       altitude  \\\n",
       "count  410600.000000  410600.000000  410600.000000  410600.000000   \n",
       "mean     1451.350543      39.841724     109.730593     472.641111   \n",
       "std      2885.773355       4.194974      39.963554    1010.275983   \n",
       "min         0.000000      22.260945    -122.331533  -22139.100000   \n",
       "25%       195.000000      39.967375     116.273795     118.100000   \n",
       "50%       515.000000      39.986057     116.327137     160.800000   \n",
       "75%      1423.000000      40.075330     116.373140     262.500000   \n",
       "max     25578.000000      51.486608     126.993377   28969.800000   \n",
       "\n",
       "               user     trans_trip           dist        bearing  \\\n",
       "count  410600.00000  410600.000000  409565.000000  409565.000000   \n",
       "mean      115.58266     509.783989      36.645141      89.192027   \n",
       "std        36.94495     414.203122     509.475885      54.926855   \n",
       "min        20.00000       0.000000       0.000000       0.000000   \n",
       "25%       128.00000     169.000000       2.317364      38.615309   \n",
       "50%       128.00000     457.000000       5.380679      89.999991   \n",
       "75%       128.00000     722.000000      35.318324     139.293976   \n",
       "max       163.00000    3151.000000  179535.150773     180.000000   \n",
       "\n",
       "            brngChng    time_delta      velocity  acceleration  \n",
       "count  408534.000000  4.106000e+05  4.093270e+05  4.080600e+05  \n",
       "mean       18.504814 -2.324936e+07           inf           NaN  \n",
       "std        28.794240  4.624906e+08           NaN           NaN  \n",
       "min         0.000000 -9.223372e+09  0.000000e+00          -inf  \n",
       "25%         1.676207  2.000000e+00  1.164503e+00 -1.787937e-01  \n",
       "50%         7.163084  2.000000e+00  2.561303e+00  1.972002e-03  \n",
       "75%        21.794372  6.000000e+00  8.411582e+00  1.870326e-01  \n",
       "max       180.000000  4.634300e+04           inf           inf  "
      ]
     },
     "execution_count": 20,
     "metadata": {},
     "output_type": "execute_result"
    }
   ],
   "source": [
    "data.describe()"
   ]
  },
  {
   "cell_type": "code",
   "execution_count": null,
   "metadata": {},
   "outputs": [],
   "source": []
  }
 ],
 "metadata": {
  "kernelspec": {
   "display_name": "Python 3",
   "language": "python",
   "name": "python3"
  },
  "language_info": {
   "codemirror_mode": {
    "name": "ipython",
    "version": 3
   },
   "file_extension": ".py",
   "mimetype": "text/x-python",
   "name": "python",
   "nbconvert_exporter": "python",
   "pygments_lexer": "ipython3",
   "version": "3.7.3"
  }
 },
 "nbformat": 4,
 "nbformat_minor": 2
}
