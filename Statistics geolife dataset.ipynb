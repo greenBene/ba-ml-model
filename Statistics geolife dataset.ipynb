{
 "cells": [
  {
   "cell_type": "code",
   "execution_count": 1,
   "metadata": {
    "ExecuteTime": {
     "end_time": "2019-09-23T15:34:51.024480Z",
     "start_time": "2019-09-23T15:34:49.242173Z"
    }
   },
   "outputs": [],
   "source": [
    "import pandas as pd\n",
    "import numpy as np\n",
    "import xgboost as xgb\n",
    "import os\n",
    "pd.set_option('mode.chained_assignment', None)"
   ]
  },
  {
   "cell_type": "code",
   "execution_count": 2,
   "metadata": {
    "ExecuteTime": {
     "end_time": "2019-09-23T15:34:51.028999Z",
     "start_time": "2019-09-23T15:34:51.026477Z"
    }
   },
   "outputs": [],
   "source": [
    "# Constants\n",
    "data_dir = 'geolife-data/Prepared'\n",
    "output_file = 'processed_data.csv'\n",
    "files_to_read = 15\n",
    "earth_radius = 6367"
   ]
  },
  {
   "cell_type": "code",
   "execution_count": 3,
   "metadata": {
    "ExecuteTime": {
     "end_time": "2019-09-23T15:34:51.036925Z",
     "start_time": "2019-09-23T15:34:51.031399Z"
    }
   },
   "outputs": [],
   "source": [
    "def haversine(lat1, lon1, lat2, lon2, earth_radius=6371):\n",
    "    \n",
    "    lat1, lon1, lat2, lon2 = map(np.radians, [lat1, lon1, lat2, lon2])\n",
    "    \n",
    "    a = np.sin(np.abs(lat2-lat1)/2.0)**2 + \\\n",
    "        np.cos(lat1) * np.cos(lat2) * np.sin(np.abs(lon2-lon1)/2.0)**2\n",
    "    c = np.arctan2(np.sqrt(a), np.sqrt(1-a))\n",
    "    \n",
    "    return earth_radius * 2 * c"
   ]
  },
  {
   "cell_type": "code",
   "execution_count": 4,
   "metadata": {
    "ExecuteTime": {
     "end_time": "2019-09-23T15:34:51.044054Z",
     "start_time": "2019-09-23T15:34:51.039127Z"
    }
   },
   "outputs": [],
   "source": [
    "def bearing(lat1, lon1, lat2, lon2, earth_radius=6371):\n",
    "    \n",
    "    lat1, lon1, lat2, lon2 = map(np.radians, [lat1, lon1, lat2, lon2])\n",
    "    \n",
    "    y = np.sin(np.abs(lon2-lon1)) * np.cos(lat2)\n",
    "    x = np.cos(lat1) * np.sin(lat2) - np.sin(lat1) * np.cos(lat2) * np.cos(np.abs(lon2-lon1))\n",
    "    \n",
    "    return np.degrees(np.arctan2(y,x))"
   ]
  },
  {
   "cell_type": "code",
   "execution_count": null,
   "metadata": {
    "ExecuteTime": {
     "start_time": "2019-09-23T15:34:50.315Z"
    }
   },
   "outputs": [],
   "source": [
    "filelist = os.listdir(data_dir)\n",
    "files_to_read = (len(filelist) if files_to_read>len(filelist) else files_to_read)\n",
    "\n",
    "data_raw = pd.DataFrame()\n",
    "for file in filelist[:files_to_read]:\n",
    "    if os.path.isdir(data_dir + \"/\" + file):\n",
    "        continue\n",
    "    data_raw_temp = traj_df = pd.read_csv(data_dir + \"/\" + file)\n",
    "    data_raw = pd.concat([data_raw, data_raw_temp])\n"
   ]
  },
  {
   "cell_type": "code",
   "execution_count": null,
   "metadata": {
    "ExecuteTime": {
     "start_time": "2019-09-23T15:34:50.880Z"
    }
   },
   "outputs": [],
   "source": [
    "data_raw = data_raw.rename(columns={\"height\": \"altitude\"})\\\n",
    "    .drop(columns = ['days_total', 'date', 'time'])\\\n",
    "    .dropna()\n",
    "\n",
    "data_raw['record_dt'] = data_raw['record_dt'].astype(\"datetime64\")\n",
    "\n",
    "used_classes = ['car', 'walk', 'bike', 'train']\n",
    "\n",
    "data_raw = data_raw.drop(data_raw[~data_raw['trans_mode'].isin(used_classes)].index)"
   ]
  },
  {
   "cell_type": "code",
   "execution_count": null,
   "metadata": {
    "ExecuteTime": {
     "start_time": "2019-09-23T15:34:51.634Z"
    }
   },
   "outputs": [],
   "source": [
    "users = data_raw['user'].unique()"
   ]
  },
  {
   "cell_type": "code",
   "execution_count": 18,
   "metadata": {
    "ExecuteTime": {
     "end_time": "2019-09-16T08:35:19.480462Z",
     "start_time": "2019-09-16T08:34:37.041383Z"
    }
   },
   "outputs": [
    {
     "name": "stdout",
     "output_type": "stream",
     "text": [
      "User: 106\n",
      "User: 138\n",
      "User: 163\n",
      "User: 82\n",
      "User: 64\n",
      "User: 20\n",
      "User: 89\n",
      "User: 112\n",
      "User: 96\n",
      "User: 128\n",
      "User: 92\n",
      "User: 102\n",
      "User: 86\n"
     ]
    }
   ],
   "source": [
    "data = pd.DataFrame()\n",
    "for user in users[:files_to_read]:\n",
    "    print(\"User: \" + str(user))\n",
    "    data_user = data_raw[data_raw.user == user]\n",
    "    trips = data_user['trans_trip'].unique()\n",
    "    for trip in trips[:]:\n",
    "        \n",
    "        # data_traj consist of all trajectories of one singel trip\n",
    "        \n",
    "        data_traj = data_user[data_user.trans_trip == trip]\n",
    "        data_traj = data_traj.sort_values(by=['record_dt'])\n",
    "        \n",
    "        # Distance to next entry in meters\n",
    "        data_traj['dist'] = haversine(data_traj.latitude, data_traj.longitude, data_traj.latitude.shift(-1), data_traj.longitude.shift(-1)) * 1000\n",
    "        \n",
    "        data_traj['bearing'] = bearing(data_traj.latitude, data_traj.longitude, data_traj.latitude.shift(-1), data_traj.longitude.shift(-1))\n",
    "        data_traj['brngChng'] = 180.0 - np.abs(np.abs(data_traj['bearing'] - data_traj['bearing'].shift(-1)) - 180.0)\n",
    "        \n",
    "        # Time difference to next entry in seconds\n",
    "        data_traj['time_delta'] = (data_traj.record_dt.shift(-1) - data_traj.record_dt).astype(\"int64\") / (1000000000.0)\n",
    "        \n",
    "        # Velocity until next entry in m/s\n",
    "        data_traj['velocity'] = data_traj['dist'] / (data_traj['time_delta'])\n",
    "        \n",
    "        # Acceleration in m/(sˆ2)\n",
    "        data_traj['acceleration'] = (data_traj['velocity'].shift(-1) - data_traj['velocity']) / (data_traj['time_delta'])\n",
    "        \n",
    "        \n",
    "        data = pd.concat([data, data_traj])\n",
    " "
   ]
  },
  {
   "cell_type": "code",
   "execution_count": 1,
   "metadata": {
    "ExecuteTime": {
     "end_time": "2019-09-18T14:52:18.244645Z",
     "start_time": "2019-09-18T14:52:18.167994Z"
    }
   },
   "outputs": [
    {
     "ename": "NameError",
     "evalue": "name 'data_raw' is not defined",
     "output_type": "error",
     "traceback": [
      "\u001b[0;31m---------------------------------------------------------------------------\u001b[0m",
      "\u001b[0;31mNameError\u001b[0m                                 Traceback (most recent call last)",
      "\u001b[0;32m<ipython-input-1-bfa5497fc565>\u001b[0m in \u001b[0;36m<module>\u001b[0;34m\u001b[0m\n\u001b[0;32m----> 1\u001b[0;31m \u001b[0mdata_raw\u001b[0m\u001b[0;34m.\u001b[0m\u001b[0mdescribe\u001b[0m\u001b[0;34m(\u001b[0m\u001b[0;34m)\u001b[0m\u001b[0;34m\u001b[0m\u001b[0;34m\u001b[0m\u001b[0m\n\u001b[0m",
      "\u001b[0;31mNameError\u001b[0m: name 'data_raw' is not defined"
     ]
    }
   ],
   "source": [
    "data_raw.describe()"
   ]
  },
  {
   "cell_type": "code",
   "execution_count": null,
   "metadata": {},
   "outputs": [],
   "source": []
  }
 ],
 "metadata": {
  "kernelspec": {
   "display_name": "Python 3",
   "language": "python",
   "name": "python3"
  },
  "language_info": {
   "codemirror_mode": {
    "name": "ipython",
    "version": 3
   },
   "file_extension": ".py",
   "mimetype": "text/x-python",
   "name": "python",
   "nbconvert_exporter": "python",
   "pygments_lexer": "ipython3",
   "version": "3.7.3"
  }
 },
 "nbformat": 4,
 "nbformat_minor": 2
}
